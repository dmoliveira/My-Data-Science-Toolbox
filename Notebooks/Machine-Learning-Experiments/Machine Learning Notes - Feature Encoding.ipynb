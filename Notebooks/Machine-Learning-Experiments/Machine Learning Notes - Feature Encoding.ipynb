{
 "cells": [
  {
   "cell_type": "markdown",
   "metadata": {},
   "source": [
    "# Machine Learning Notes: Feature Encoding\n",
    "<hr>\n",
    "Author: [Diego Marinho de Oliveira](http://br.linkedin.com/in/dmztheone) [(GitHub)](http://www.github.com/dmoliveira)\n"
   ]
  },
  {
   "cell_type": "markdown",
   "metadata": {},
   "source": [
    "## 1. Introduction"
   ]
  },
  {
   "cell_type": "markdown",
   "metadata": {},
   "source": [
    "This notebook is a study to observe the potential of feature encoding. Althought there are a considerable amount of studies that claims the benefit of feature encoding, this notebook try to verify it empirically. Also, the studies don't show how to do it, and this notebook give a chance to Data Scientists and Machine Learning Practioners see some smart tricks on data. At least but not less, all the notebook was made on [Julia](http://www.julialang.org)! This is an awesome language that are conquering me every day! You can see more notebooks like this one throught my GitHub page. Every one is now coding in Julia."
   ]
  },
  {
   "cell_type": "code",
   "execution_count": 174,
   "metadata": {
    "collapsed": false
   },
   "outputs": [],
   "source": [
    "using MLBase\n",
    "using DataFrames\n",
    "using RDatasets\n",
    "using Lasso\n",
    "using GLM\n",
    "using GLMNet\n",
    "using LIBSVM\n",
    "using DecisionTree\n",
    "using XGBoost\n",
    "using NeuralNets"
   ]
  },
  {
   "cell_type": "markdown",
   "metadata": {},
   "source": [
    "## 2. Method Definitions"
   ]
  },
  {
   "cell_type": "code",
   "execution_count": 7,
   "metadata": {
    "collapsed": false
   },
   "outputs": [
    {
     "data": {
      "text/plain": [
       "encode_data (generic function with 1 method)"
      ]
     },
     "execution_count": 7,
     "metadata": {},
     "output_type": "execute_result"
    }
   ],
   "source": [
    "function encode_data(data, features)\n",
    "    \n",
    "    encoded_data = copy(data)\n",
    "    encoders     = Dict([f => labelmap(data[:, f]) for f in features])\n",
    "    \n",
    "    for f in features\n",
    "        encoded_data[:, f] = labelencode(encoders[f], encoded_data[:, f])\n",
    "    end\n",
    "    \n",
    "    return encoded_data\n",
    "end"
   ]
  },
  {
   "cell_type": "code",
   "execution_count": 262,
   "metadata": {
    "collapsed": false
   },
   "outputs": [
    {
     "data": {
      "text/plain": [
       "accuracy (generic function with 1 method)"
      ]
     },
     "execution_count": 262,
     "metadata": {},
     "output_type": "execute_result"
    }
   ],
   "source": [
    "abstract Model\n",
    "type LM <: Model end\n",
    "type SVM <: Model end\n",
    "type ANN <: Model end\n",
    "type DecisionTrees <: Model end\n",
    "type RandomForest <: Model end\n",
    "type XGB <: Model end\n",
    "\n",
    "train(::Type{LM}, X, y)            = glmnet(X, y)\n",
    "train(::Type{SVM}, X, y)           = 0\n",
    "train(::Type{ANN}, X, y)           = 0\n",
    "train(::Type{DecisionTrees}, X, y) = build_tree(y, X)\n",
    "train(::Type{RandomForest}, X, y)  = build_forest(y, X, 4, 100, 5, 0.7)\n",
    "train(::Type{XGB}, X, y)           = xgboost(X, 10, label=y, eta=.3, max_depth=4, silent=1)\n",
    "\n",
    "predict(::Type{LM}, model, X)            = (yhat=GLMNet.predict(model, X); return [mean(yhat[i,:]) for i=1:size(yhat,1)])\n",
    "predict(::Type{SVM}, model, X)           = 0\n",
    "predict(::Type{ANN}, model, X)           = 0\n",
    "predict(::Type{DecisionTrees}, model, X) = apply_tree(model, X)\n",
    "predict(::Type{RandomForest}, model, X)  = apply_forest(model, X)\n",
    "predict(::Type{XGB}, model, X)           = XGBoost.predict(model, X)\n",
    "\n",
    "rmse(Y, YHat) = sqrt(sum((Y - YHat) .^ 2)/length(Y))\n",
    "accuracy(Y, YHat) = sum(Array{Int8}(Y .== YHat))/length(Y)"
   ]
  },
  {
   "cell_type": "code",
   "execution_count": 232,
   "metadata": {
    "collapsed": false
   },
   "outputs": [
    {
     "data": {
      "text/plain": [
       "analyze_models (generic function with 2 methods)"
      ]
     },
     "execution_count": 232,
     "metadata": {},
     "output_type": "execute_result"
    }
   ],
   "source": [
    "function analyze_models(X, y, Xval, metric, model_list)\n",
    "    \n",
    "    results = []\n",
    "    \n",
    "    for model_name in model_list\n",
    "        model  = train(model_name, X, y)\n",
    "        yhat   = predict(model_name, model, Xval)\n",
    "        result = metric(y, yhat)\n",
    "        push!(results, result)\n",
    "    end\n",
    "    \n",
    "    dataframe = DataFrame(Model=model_list, RMSE=results)\n",
    "    sort!(dataframe, cols=:RMSE)\n",
    "    \n",
    "    return dataframe\n",
    "end"
   ]
  },
  {
   "cell_type": "code",
   "execution_count": 239,
   "metadata": {
    "collapsed": false
   },
   "outputs": [
    {
     "data": {
      "text/plain": [
       "binarize_features! (generic function with 1 method)"
      ]
     },
     "execution_count": 239,
     "metadata": {},
     "output_type": "execute_result"
    }
   ],
   "source": [
    "function binarize_feature!(data, feature)\n",
    "    unique_values = [ symbol(feature, \"=\", value) for value in Set(data[:, feature]) ]\n",
    "    nrows, ncols  = size(data, 1), length(unique_values)\n",
    "    rows          = fill(0, nrows, ncols)\n",
    "    for i=1:size(data, 1)\n",
    "        rows[i, data[i, feature]] = 1\n",
    "    end\n",
    "    \n",
    "    for j=1:ncols\n",
    "        data[unique_values[j]] = rows[:, j]\n",
    "    end\n",
    "    \n",
    "    return data\n",
    "end\n",
    "\n",
    "function binarize_features!(data, feature_list)\n",
    "    \n",
    "    for feature in feature_list\n",
    "        binarize_feature!(data, feature)\n",
    "    end\n",
    "    \n",
    "    return data\n",
    "end"
   ]
  },
  {
   "cell_type": "code",
   "execution_count": 9,
   "metadata": {
    "collapsed": false
   },
   "outputs": [
    {
     "data": {
      "text/html": [
       "<table class=\"data-frame\"><tr><th></th><th>Package</th><th>Title</th></tr><tr><th>1</th><td>COUNT</td><td>Functions, data and code for count data.</td></tr><tr><th>2</th><td>Ecdat</td><td>Data sets for econometrics</td></tr><tr><th>3</th><td>HSAUR</td><td>A Handbook of Statistical Analyses Using R (1st Edition)</td></tr><tr><th>4</th><td>HistData</td><td>Data sets from the history of statistics and data visualization</td></tr><tr><th>5</th><td>ISLR</td><td>Data for An Introduction to Statistical Learning with Applications in R</td></tr><tr><th>6</th><td>KMsurv</td><td>Data sets from Klein and Moeschberger (1997), Survival Analysis</td></tr><tr><th>7</th><td>MASS</td><td>Support Functions and Datasets for Venables and Ripley's MASS</td></tr><tr><th>8</th><td>SASmixed</td><td>Data sets from \"SAS System for Mixed Models\"</td></tr><tr><th>9</th><td>Zelig</td><td>Everyone's Statistical Software</td></tr><tr><th>10</th><td>adehabitatLT</td><td>Analysis of Animal Movements</td></tr><tr><th>11</th><td>boot</td><td>Bootstrap Functions (Originally by Angelo Canty for S)</td></tr><tr><th>12</th><td>car</td><td>Companion to Applied Regression</td></tr><tr><th>13</th><td>cluster</td><td>Cluster Analysis Extended Rousseeuw et al.</td></tr><tr><th>14</th><td>datasets</td><td>The R Datasets Package</td></tr><tr><th>15</th><td>gap</td><td>Genetic analysis package</td></tr><tr><th>16</th><td>ggplot2</td><td>An Implementation of the Grammar of Graphics</td></tr><tr><th>17</th><td>lattice</td><td>Lattice Graphics</td></tr><tr><th>18</th><td>lme4</td><td>Linear mixed-effects models using Eigen and S4</td></tr><tr><th>19</th><td>mgcv</td><td>Mixed GAM Computation Vehicle with GCV/AIC/REML smoothness estimation</td></tr><tr><th>20</th><td>mlmRev</td><td>Examples from Multilevel Modelling Software Review</td></tr><tr><th>21</th><td>nlreg</td><td>Higher Order Inference for Nonlinear Heteroscedastic Models</td></tr><tr><th>22</th><td>plm</td><td>Linear Models for Panel Data</td></tr><tr><th>23</th><td>plyr</td><td>Tools for splitting, applying and combining data</td></tr><tr><th>24</th><td>pscl</td><td>Political Science Computational Laboratory, Stanford University</td></tr><tr><th>25</th><td>psych</td><td>Procedures for Psychological, Psychometric, and Personality Research</td></tr><tr><th>26</th><td>quantreg</td><td>Quantile Regression</td></tr><tr><th>27</th><td>reshape2</td><td>Flexibly Reshape Data: A Reboot of the Reshape Package.</td></tr><tr><th>28</th><td>robustbase</td><td>Basic Robust Statistics</td></tr><tr><th>29</th><td>rpart</td><td>Recursive Partitioning and Regression Trees</td></tr><tr><th>30</th><td>sandwich</td><td>Robust Covariance Matrix Estimators</td></tr><tr><th>&vellip;</th><td>&vellip;</td><td>&vellip;</td></tr></table>"
      ],
      "text/plain": [
       "33x2 DataFrames.DataFrame\n",
       "| Row | Package        |\n",
       "|-----|----------------|\n",
       "| 1   | \"COUNT\"        |\n",
       "| 2   | \"Ecdat\"        |\n",
       "| 3   | \"HSAUR\"        |\n",
       "| 4   | \"HistData\"     |\n",
       "| 5   | \"ISLR\"         |\n",
       "| 6   | \"KMsurv\"       |\n",
       "| 7   | \"MASS\"         |\n",
       "| 8   | \"SASmixed\"     |\n",
       "| 9   | \"Zelig\"        |\n",
       "| 10  | \"adehabitatLT\" |\n",
       "| 11  | \"boot\"         |\n",
       "⋮\n",
       "| 22  | \"plm\"          |\n",
       "| 23  | \"plyr\"         |\n",
       "| 24  | \"pscl\"         |\n",
       "| 25  | \"psych\"        |\n",
       "| 26  | \"quantreg\"     |\n",
       "| 27  | \"reshape2\"     |\n",
       "| 28  | \"robustbase\"   |\n",
       "| 29  | \"rpart\"        |\n",
       "| 30  | \"sandwich\"     |\n",
       "| 31  | \"sem\"          |\n",
       "| 32  | \"survival\"     |\n",
       "| 33  | \"vcd\"          |\n",
       "\n",
       "| Row | Title                                                                     |\n",
       "|-----|---------------------------------------------------------------------------|\n",
       "| 1   | \"Functions, data and code for count data.\"                                |\n",
       "| 2   | \"Data sets for econometrics\"                                              |\n",
       "| 3   | \"A Handbook of Statistical Analyses Using R (1st Edition)\"                |\n",
       "| 4   | \"Data sets from the history of statistics and data visualization\"         |\n",
       "| 5   | \"Data for An Introduction to Statistical Learning with Applications in R\" |\n",
       "| 6   | \"Data sets from Klein and Moeschberger (1997), Survival Analysis\"         |\n",
       "| 7   | \"Support Functions and Datasets for Venables and Ripley's MASS\"           |\n",
       "| 8   | \"Data sets from \\\"SAS System for Mixed Models\\\"\"                            |\n",
       "| 9   | \"Everyone's Statistical Software\"                                         |\n",
       "| 10  | \"Analysis of Animal Movements\"                                            |\n",
       "| 11  | \"Bootstrap Functions (Originally by Angelo Canty for S)\"                  |\n",
       "⋮\n",
       "| 22  | \"Linear Models for Panel Data\"                                            |\n",
       "| 23  | \"Tools for splitting, applying and combining data\"                        |\n",
       "| 24  | \"Political Science Computational Laboratory, Stanford University\"         |\n",
       "| 25  | \"Procedures for Psychological, Psychometric, and Personality Research\"    |\n",
       "| 26  | \"Quantile Regression\"                                                     |\n",
       "| 27  | \"Flexibly Reshape Data: A Reboot of the Reshape Package.\"                 |\n",
       "| 28  | \"Basic Robust Statistics\"                                                 |\n",
       "| 29  | \"Recursive Partitioning and Regression Trees\"                             |\n",
       "| 30  | \"Robust Covariance Matrix Estimators\"                                     |\n",
       "| 31  | \"Structural Equation Models\"                                              |\n",
       "| 32  | \"Survival Analysis\"                                                       |\n",
       "| 33  | \"Visualizing Categorical Data\"                                            |"
      ]
     },
     "execution_count": 9,
     "metadata": {},
     "output_type": "execute_result"
    }
   ],
   "source": [
    "RDatasets.packages()"
   ]
  },
  {
   "cell_type": "code",
   "execution_count": 10,
   "metadata": {
    "collapsed": false
   },
   "outputs": [
    {
     "data": {
      "text/html": [
       "<table class=\"data-frame\"><tr><th></th><th>Package</th><th>Dataset</th><th>Title</th><th>Rows</th><th>Columns</th></tr><tr><th>1</th><td>HSAUR</td><td>BCG</td><td>BCG Vaccine Data</td><td>13</td><td>7</td></tr><tr><th>2</th><td>HSAUR</td><td>BtheB</td><td>Beat the Blues Data</td><td>100</td><td>8</td></tr><tr><th>3</th><td>HSAUR</td><td>CYGOB1</td><td>CYG OB1 Star Cluster Data</td><td>47</td><td>2</td></tr><tr><th>4</th><td>HSAUR</td><td>Forbes2000</td><td>The Forbes 2000 Ranking of the World's Biggest Companies (Year 2004)</td><td>2000</td><td>8</td></tr><tr><th>5</th><td>HSAUR</td><td>GHQ</td><td>General Health Questionnaire</td><td>22</td><td>4</td></tr><tr><th>6</th><td>HSAUR</td><td>Lanza</td><td>Prevention of Gastointestinal Damages</td><td>198</td><td>3</td></tr><tr><th>7</th><td>HSAUR</td><td>agefat</td><td>Total Body Composision Data</td><td>25</td><td>3</td></tr><tr><th>8</th><td>HSAUR</td><td>aspirin</td><td>Aspirin Data</td><td>7</td><td>5</td></tr><tr><th>9</th><td>HSAUR</td><td>birthdeathrates</td><td>Birth and Death Rates Data</td><td>69</td><td>3</td></tr><tr><th>10</th><td>HSAUR</td><td>bladdercancer</td><td>Bladder Cancer Data</td><td>31</td><td>3</td></tr><tr><th>11</th><td>HSAUR</td><td>clouds</td><td>Cloud Seeding Data</td><td>24</td><td>7</td></tr><tr><th>12</th><td>HSAUR</td><td>epilepsy</td><td>Epilepsy Data</td><td>236</td><td>7</td></tr><tr><th>13</th><td>HSAUR</td><td>foster</td><td>Foster Feeding Experiment</td><td>61</td><td>3</td></tr><tr><th>14</th><td>HSAUR</td><td>heptathlon</td><td>Olympic Heptathlon Seoul 1988</td><td>25</td><td>9</td></tr><tr><th>15</th><td>HSAUR</td><td>mastectomy</td><td>Survival Times after Mastectomy of Breast Cancer Patients</td><td>44</td><td>3</td></tr><tr><th>16</th><td>HSAUR</td><td>meteo</td><td>Meteorological Measurements for 11 Years</td><td>11</td><td>6</td></tr><tr><th>17</th><td>HSAUR</td><td>orallesions</td><td>Oral Lesions in Rural India</td><td>8</td><td>4</td></tr><tr><th>18</th><td>HSAUR</td><td>phosphate</td><td>Phosphate Level Data</td><td>33</td><td>9</td></tr><tr><th>19</th><td>HSAUR</td><td>pistonrings</td><td>Piston Rings Failures</td><td>4</td><td>4</td></tr><tr><th>20</th><td>HSAUR</td><td>planets</td><td>Exoplanets Data</td><td>101</td><td>3</td></tr><tr><th>21</th><td>HSAUR</td><td>plasma</td><td>Blood Screening Data</td><td>32</td><td>4</td></tr><tr><th>22</th><td>HSAUR</td><td>polyps</td><td>Familial Andenomatous Polyposis</td><td>20</td><td>3</td></tr><tr><th>23</th><td>HSAUR</td><td>polyps3</td><td>Familial Andenomatous Polyposis</td><td>22</td><td>5</td></tr><tr><th>24</th><td>HSAUR</td><td>pottery</td><td>Romano-British Pottery Data</td><td>45</td><td>9</td></tr><tr><th>25</th><td>HSAUR</td><td>rearrests</td><td>Rearrests of Juvenile Felons</td><td>2</td><td>3</td></tr><tr><th>26</th><td>HSAUR</td><td>respiratory</td><td>Respiratory Illness Data</td><td>555</td><td>8</td></tr><tr><th>27</th><td>HSAUR</td><td>roomwidth</td><td>Students Estimates of Lecture Room Width</td><td>113</td><td>2</td></tr><tr><th>28</th><td>HSAUR</td><td>schizophrenia</td><td>Age of Onset of Schizophrenia Data</td><td>251</td><td>2</td></tr><tr><th>29</th><td>HSAUR</td><td>schizophrenia2</td><td>Schizophrenia Data</td><td>220</td><td>5</td></tr><tr><th>30</th><td>HSAUR</td><td>schooldays</td><td>Days not Spent at School</td><td>154</td><td>5</td></tr><tr><th>&vellip;</th><td>&vellip;</td><td>&vellip;</td><td>&vellip;</td><td>&vellip;</td><td>&vellip;</td></tr></table>"
      ],
      "text/plain": [
       "41x5 DataFrames.DataFrame\n",
       "| Row | Package | Dataset           |\n",
       "|-----|---------|-------------------|\n",
       "| 1   | \"HSAUR\" | \"BCG\"             |\n",
       "| 2   | \"HSAUR\" | \"BtheB\"           |\n",
       "| 3   | \"HSAUR\" | \"CYGOB1\"          |\n",
       "| 4   | \"HSAUR\" | \"Forbes2000\"      |\n",
       "| 5   | \"HSAUR\" | \"GHQ\"             |\n",
       "| 6   | \"HSAUR\" | \"Lanza\"           |\n",
       "| 7   | \"HSAUR\" | \"agefat\"          |\n",
       "| 8   | \"HSAUR\" | \"aspirin\"         |\n",
       "| 9   | \"HSAUR\" | \"birthdeathrates\" |\n",
       "| 10  | \"HSAUR\" | \"bladdercancer\"   |\n",
       "| 11  | \"HSAUR\" | \"clouds\"          |\n",
       "⋮\n",
       "| 30  | \"HSAUR\" | \"schooldays\"      |\n",
       "| 31  | \"HSAUR\" | \"skulls\"          |\n",
       "| 32  | \"HSAUR\" | \"smoking\"         |\n",
       "| 33  | \"HSAUR\" | \"students\"        |\n",
       "| 34  | \"HSAUR\" | \"suicides\"        |\n",
       "| 35  | \"HSAUR\" | \"toothpaste\"      |\n",
       "| 36  | \"HSAUR\" | \"voting\"          |\n",
       "| 37  | \"HSAUR\" | \"water\"           |\n",
       "| 38  | \"HSAUR\" | \"watervoles\"      |\n",
       "| 39  | \"HSAUR\" | \"waves\"           |\n",
       "| 40  | \"HSAUR\" | \"weightgain\"      |\n",
       "| 41  | \"HSAUR\" | \"womensrole\"      |\n",
       "\n",
       "| Row | Title                                                                  |\n",
       "|-----|------------------------------------------------------------------------|\n",
       "| 1   | \"BCG Vaccine Data\"                                                     |\n",
       "| 2   | \"Beat the Blues Data\"                                                  |\n",
       "| 3   | \"CYG OB1 Star Cluster Data\"                                            |\n",
       "| 4   | \"The Forbes 2000 Ranking of the World's Biggest Companies (Year 2004)\" |\n",
       "| 5   | \"General Health Questionnaire\"                                         |\n",
       "| 6   | \"Prevention of Gastointestinal Damages\"                                |\n",
       "| 7   | \"Total Body Composision Data\"                                          |\n",
       "| 8   | \"Aspirin Data\"                                                         |\n",
       "| 9   | \"Birth and Death Rates Data\"                                           |\n",
       "| 10  | \"Bladder Cancer Data\"                                                  |\n",
       "| 11  | \"Cloud Seeding Data\"                                                   |\n",
       "⋮\n",
       "| 30  | \"Days not Spent at School\"                                             |\n",
       "| 31  | \"Egyptian Skulls\"                                                      |\n",
       "| 32  | \"Nicotine Gum and Smoking Cessation\"                                   |\n",
       "| 33  | \"Student Risk Taking\"                                                  |\n",
       "| 34  | \"Crowd Baiting Behaviour and Suicides\"                                 |\n",
       "| 35  | \"Toothpaste Data\"                                                      |\n",
       "| 36  | \"House of Representatives Voting Data\"                                 |\n",
       "| 37  | \"Mortality and Water Hardness\"                                         |\n",
       "| 38  | \"Water Voles Data\"                                                     |\n",
       "| 39  | \"Electricity from Wave Power at Sea\"                                   |\n",
       "| 40  | \"Gain in Weight of Rats\"                                               |\n",
       "| 41  | \"Womens Role in Society\"                                               |\n",
       "\n",
       "| Row | Rows | Columns |\n",
       "|-----|------|---------|\n",
       "| 1   | 13   | 7       |\n",
       "| 2   | 100  | 8       |\n",
       "| 3   | 47   | 2       |\n",
       "| 4   | 2000 | 8       |\n",
       "| 5   | 22   | 4       |\n",
       "| 6   | 198  | 3       |\n",
       "| 7   | 25   | 3       |\n",
       "| 8   | 7    | 5       |\n",
       "| 9   | 69   | 3       |\n",
       "| 10  | 31   | 3       |\n",
       "| 11  | 24   | 7       |\n",
       "⋮\n",
       "| 30  | 154  | 5       |\n",
       "| 31  | 150  | 5       |\n",
       "| 32  | 26   | 5       |\n",
       "| 33  | 35   | 3       |\n",
       "| 34  | 2    | 3       |\n",
       "| 35  | 9    | 7       |\n",
       "| 36  | 15   | 16      |\n",
       "| 37  | 61   | 4       |\n",
       "| 38  | 14   | 15      |\n",
       "| 39  | 18   | 2       |\n",
       "| 40  | 40   | 3       |\n",
       "| 41  | 42   | 4       |"
      ]
     },
     "execution_count": 10,
     "metadata": {},
     "output_type": "execute_result"
    }
   ],
   "source": [
    "RDatasets.datasets(\"HSAUR\")"
   ]
  },
  {
   "cell_type": "code",
   "execution_count": 11,
   "metadata": {
    "collapsed": false
   },
   "outputs": [
    {
     "data": {
      "text/html": [
       "<table class=\"data-frame\"><tr><th></th><th>Rank</th><th>Name</th><th>Country</th><th>Category</th><th>Sales</th><th>Profits</th><th>Assets</th><th>MarketValue</th></tr><tr><th>1</th><td>1</td><td>Citigroup</td><td>United States</td><td>Banking</td><td>94.71</td><td>17.85</td><td>1264.03</td><td>255.3</td></tr><tr><th>2</th><td>2</td><td>General Electric</td><td>United States</td><td>Conglomerates</td><td>134.19</td><td>15.59</td><td>626.93</td><td>328.54</td></tr><tr><th>3</th><td>3</td><td>American Intl Group</td><td>United States</td><td>Insurance</td><td>76.66</td><td>6.46</td><td>647.66</td><td>194.87</td></tr><tr><th>4</th><td>4</td><td>ExxonMobil</td><td>United States</td><td>Oil &amp; gas operations</td><td>222.88</td><td>20.96</td><td>166.99</td><td>277.02</td></tr><tr><th>5</th><td>5</td><td>BP</td><td>United Kingdom</td><td>Oil &amp; gas operations</td><td>232.57</td><td>10.27</td><td>177.57</td><td>173.54</td></tr><tr><th>6</th><td>6</td><td>Bank of America</td><td>United States</td><td>Banking</td><td>49.01</td><td>10.81</td><td>736.45</td><td>117.55</td></tr></table>"
      ],
      "text/plain": [
       "6x8 DataFrames.DataFrame\n",
       "| Row | Rank | Name                  | Country          |\n",
       "|-----|------|-----------------------|------------------|\n",
       "| 1   | 1    | \"Citigroup\"           | \"United States\"  |\n",
       "| 2   | 2    | \"General Electric\"    | \"United States\"  |\n",
       "| 3   | 3    | \"American Intl Group\" | \"United States\"  |\n",
       "| 4   | 4    | \"ExxonMobil\"          | \"United States\"  |\n",
       "| 5   | 5    | \"BP\"                  | \"United Kingdom\" |\n",
       "| 6   | 6    | \"Bank of America\"     | \"United States\"  |\n",
       "\n",
       "| Row | Category               | Sales  | Profits | Assets  | MarketValue |\n",
       "|-----|------------------------|--------|---------|---------|-------------|\n",
       "| 1   | \"Banking\"              | 94.71  | 17.85   | 1264.03 | 255.3       |\n",
       "| 2   | \"Conglomerates\"        | 134.19 | 15.59   | 626.93  | 328.54      |\n",
       "| 3   | \"Insurance\"            | 76.66  | 6.46    | 647.66  | 194.87      |\n",
       "| 4   | \"Oil & gas operations\" | 222.88 | 20.96   | 166.99  | 277.02      |\n",
       "| 5   | \"Oil & gas operations\" | 232.57 | 10.27   | 177.57  | 173.54      |\n",
       "| 6   | \"Banking\"              | 49.01  | 10.81   | 736.45  | 117.55      |"
      ]
     },
     "execution_count": 11,
     "metadata": {},
     "output_type": "execute_result"
    }
   ],
   "source": [
    "head(dataset(\"HSAUR\", \"Forbes2000\"))"
   ]
  },
  {
   "cell_type": "markdown",
   "metadata": {},
   "source": [
    "## 3. Analyzing Forbes2000 Dataset (I)"
   ]
  },
  {
   "cell_type": "markdown",
   "metadata": {},
   "source": [
    "### 3.1. Load Data"
   ]
  },
  {
   "cell_type": "code",
   "execution_count": 12,
   "metadata": {
    "collapsed": true
   },
   "outputs": [],
   "source": [
    "data = dataset(\"HSAUR\", \"Forbes2000\");"
   ]
  },
  {
   "cell_type": "markdown",
   "metadata": {},
   "source": [
    "### 3.2. Define Features and Output"
   ]
  },
  {
   "cell_type": "code",
   "execution_count": 13,
   "metadata": {
    "collapsed": false
   },
   "outputs": [],
   "source": [
    "features     = [:Country, :Category, :Sales, :Profits, :Assets]\n",
    "cat_features = [:Country, :Category]\n",
    "output        = :MarketValue;"
   ]
  },
  {
   "cell_type": "code",
   "execution_count": 186,
   "metadata": {
    "collapsed": false
   },
   "outputs": [],
   "source": [
    "model_list = [LM, DecisionTrees, RandomForest, XGB];"
   ]
  },
  {
   "cell_type": "markdown",
   "metadata": {},
   "source": [
    "### 3.3. Data Sample"
   ]
  },
  {
   "cell_type": "code",
   "execution_count": 14,
   "metadata": {
    "collapsed": false
   },
   "outputs": [
    {
     "data": {
      "text/html": [
       "<table class=\"data-frame\"><tr><th></th><th>Rank</th><th>Name</th><th>Country</th><th>Category</th><th>Sales</th><th>Profits</th><th>Assets</th><th>MarketValue</th></tr><tr><th>1</th><td>1</td><td>Citigroup</td><td>United States</td><td>Banking</td><td>94.71</td><td>17.85</td><td>1264.03</td><td>255.3</td></tr><tr><th>2</th><td>2</td><td>General Electric</td><td>United States</td><td>Conglomerates</td><td>134.19</td><td>15.59</td><td>626.93</td><td>328.54</td></tr><tr><th>3</th><td>3</td><td>American Intl Group</td><td>United States</td><td>Insurance</td><td>76.66</td><td>6.46</td><td>647.66</td><td>194.87</td></tr><tr><th>4</th><td>4</td><td>ExxonMobil</td><td>United States</td><td>Oil &amp; gas operations</td><td>222.88</td><td>20.96</td><td>166.99</td><td>277.02</td></tr><tr><th>5</th><td>5</td><td>BP</td><td>United Kingdom</td><td>Oil &amp; gas operations</td><td>232.57</td><td>10.27</td><td>177.57</td><td>173.54</td></tr><tr><th>6</th><td>6</td><td>Bank of America</td><td>United States</td><td>Banking</td><td>49.01</td><td>10.81</td><td>736.45</td><td>117.55</td></tr></table>"
      ],
      "text/plain": [
       "6x8 DataFrames.DataFrame\n",
       "| Row | Rank | Name                  | Country          |\n",
       "|-----|------|-----------------------|------------------|\n",
       "| 1   | 1    | \"Citigroup\"           | \"United States\"  |\n",
       "| 2   | 2    | \"General Electric\"    | \"United States\"  |\n",
       "| 3   | 3    | \"American Intl Group\" | \"United States\"  |\n",
       "| 4   | 4    | \"ExxonMobil\"          | \"United States\"  |\n",
       "| 5   | 5    | \"BP\"                  | \"United Kingdom\" |\n",
       "| 6   | 6    | \"Bank of America\"     | \"United States\"  |\n",
       "\n",
       "| Row | Category               | Sales  | Profits | Assets  | MarketValue |\n",
       "|-----|------------------------|--------|---------|---------|-------------|\n",
       "| 1   | \"Banking\"              | 94.71  | 17.85   | 1264.03 | 255.3       |\n",
       "| 2   | \"Conglomerates\"        | 134.19 | 15.59   | 626.93  | 328.54      |\n",
       "| 3   | \"Insurance\"            | 76.66  | 6.46    | 647.66  | 194.87      |\n",
       "| 4   | \"Oil & gas operations\" | 222.88 | 20.96   | 166.99  | 277.02      |\n",
       "| 5   | \"Oil & gas operations\" | 232.57 | 10.27   | 177.57  | 173.54      |\n",
       "| 6   | \"Banking\"              | 49.01  | 10.81   | 736.45  | 117.55      |"
      ]
     },
     "execution_count": 14,
     "metadata": {},
     "output_type": "execute_result"
    }
   ],
   "source": [
    "head(data)"
   ]
  },
  {
   "cell_type": "markdown",
   "metadata": {},
   "source": [
    "### 3.4. Data Encode: Round 1 (Shallow Encoded)"
   ]
  },
  {
   "cell_type": "code",
   "execution_count": 135,
   "metadata": {
    "collapsed": false
   },
   "outputs": [],
   "source": [
    "encoded_data = encode_data(data[:, vcat(features, output)], cat_features)\n",
    "encoded_data[isnan(encoded_data[:, 4]), 4] = median(encoded_data[!isnan(encoded_data[:, 4]), 4]);"
   ]
  },
  {
   "cell_type": "markdown",
   "metadata": {},
   "source": [
    "### 3.5. Train And Evaluate: Round 1"
   ]
  },
  {
   "cell_type": "code",
   "execution_count": 264,
   "metadata": {
    "collapsed": false
   },
   "outputs": [],
   "source": [
    "X, y = Array{Float64, 2}(encoded_data[:, features]), Array{Float64, 1}(encoded_data[output]);"
   ]
  },
  {
   "cell_type": "code",
   "execution_count": 265,
   "metadata": {
    "collapsed": false
   },
   "outputs": [
    {
     "data": {
      "text/html": [
       "<table class=\"data-frame\"><tr><th></th><th>Model</th><th>RMSE</th></tr><tr><th>1</th><td>DecisionTrees</td><td>4.297163057277828</td></tr><tr><th>2</th><td>RandomForest</td><td>6.896041041590683</td></tr><tr><th>3</th><td>XGB</td><td>6.993713117201217</td></tr><tr><th>4</th><td>LM</td><td>16.92750603781559</td></tr></table>"
      ],
      "text/plain": [
       "4x2 DataFrames.DataFrame\n",
       "| Row | Model         | RMSE    |\n",
       "|-----|---------------|---------|\n",
       "| 1   | DecisionTrees | 4.29716 |\n",
       "| 2   | RandomForest  | 6.89604 |\n",
       "| 3   | XGB           | 6.99371 |\n",
       "| 4   | LM            | 16.9275 |"
      ]
     },
     "execution_count": 265,
     "metadata": {},
     "output_type": "execute_result"
    }
   ],
   "source": [
    "analyze_models(X, y, X, rmse, model_list)"
   ]
  },
  {
   "cell_type": "markdown",
   "metadata": {},
   "source": [
    "### 3.6. Data Encode: Round 2 (Categorical Binarized Encoded)"
   ]
  },
  {
   "cell_type": "code",
   "execution_count": 258,
   "metadata": {
    "collapsed": false
   },
   "outputs": [],
   "source": [
    "encoded_data2 = binarize_features!(copy(encoded_data[:, vcat(features, output)]), [:Country, :Category]);"
   ]
  },
  {
   "cell_type": "code",
   "execution_count": 259,
   "metadata": {
    "collapsed": false
   },
   "outputs": [],
   "source": [
    "new_features = setdiff(names(encoded_data2), [:Country, :Category]);"
   ]
  },
  {
   "cell_type": "markdown",
   "metadata": {},
   "source": [
    "### 3.7. Train And Evaluate: Round 2"
   ]
  },
  {
   "cell_type": "code",
   "execution_count": 260,
   "metadata": {
    "collapsed": false
   },
   "outputs": [],
   "source": [
    "X, y = Array{Float64, 2}(encoded_data2[:, new_features]), Array{Float64, 1}(encoded_data2[output]);"
   ]
  },
  {
   "cell_type": "code",
   "execution_count": 263,
   "metadata": {
    "collapsed": false
   },
   "outputs": [
    {
     "data": {
      "text/html": [
       "<table class=\"data-frame\"><tr><th></th><th>Model</th><th>RMSE</th></tr><tr><th>1</th><td>DecisionTrees</td><td>0.9389780832550524</td></tr><tr><th>2</th><td>XGB</td><td>1.5828800058092913</td></tr><tr><th>3</th><td>LM</td><td>6.870691606186913</td></tr><tr><th>4</th><td>RandomForest</td><td>14.316726755763552</td></tr></table>"
      ],
      "text/plain": [
       "4x2 DataFrames.DataFrame\n",
       "| Row | Model         | RMSE     |\n",
       "|-----|---------------|----------|\n",
       "| 1   | DecisionTrees | 0.938978 |\n",
       "| 2   | XGB           | 1.58288  |\n",
       "| 3   | LM            | 6.87069  |\n",
       "| 4   | RandomForest  | 14.3167  |"
      ]
     },
     "execution_count": 263,
     "metadata": {},
     "output_type": "execute_result"
    }
   ],
   "source": [
    "analyze_models(X, y, X, rmse, model_list)"
   ]
  }
 ],
 "metadata": {
  "kernelspec": {
   "display_name": "Julia 0.4.1-pre",
   "language": "julia",
   "name": "julia-0.4"
  },
  "language_info": {
   "file_extension": ".jl",
   "mimetype": "application/julia",
   "name": "julia",
   "version": "0.4.1"
  }
 },
 "nbformat": 4,
 "nbformat_minor": 0
}
