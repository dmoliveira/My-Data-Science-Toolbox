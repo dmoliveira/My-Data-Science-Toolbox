{
 "cells": [
  {
   "cell_type": "markdown",
   "metadata": {},
   "source": [
    "### Genetic Algorithms for Travelling Salesman Problem"
   ]
  },
  {
   "cell_type": "markdown",
   "metadata": {},
   "source": [
    "By Diego Marinho de Oliveira on 12-08-15"
   ]
  },
  {
   "cell_type": "markdown",
   "metadata": {},
   "source": [
    "The [travelling salesman problem](https://en.wikipedia.org/wiki/Travelling_salesman_problem) (TSP) is a well know problem in Computer Science and Math field. It consist in determine given a list of cities and distance between these cities what is the shortest path that starting from an arbitrary city we could visit all other cities only once and return to the initial city. \n",
    "\n",
    "As it is a [NP-hard problem](https://en.wikipedia.org/wiki/NP-hardness) in combinatorial optimization realm, plausible solutions make use of approximations. Thus, we could use Genetic Algorithm to search for a feasible solution in a finite amount of time since it is a search heristic that mimics the process of natural selection.\n",
    "\n",
    "Then, in this short notebook, we will explore the use of [GeneticAlgorithms](https://github.com/WestleyArgentum/GeneticAlgorithms.jl) package in [Julia](http://julialang.org/) to find a fesiable solution to TSP. "
   ]
  },
  {
   "cell_type": "markdown",
   "metadata": {},
   "source": [
    "### 1 Define the Problem"
   ]
  },
  {
   "cell_type": "markdown",
   "metadata": {},
   "source": [
    "Lets supose that we are from the ZMData logistic company that works on  California, US and want to distribute our new high-tech devices in five cities: 1. San Francisco, 2. Palo Alto, 3. Los Angeles, 4. San Diego and 5.Las Vegas. The cities, routes and costs is represented in Figure 1. We want to find a good route that save us money and time! \n",
    "\n",
    "How we can do that using a good approximation? We could use genetic algorithms (GA)! Lets model our problem using one nice library on Julia called ```GeneticAlgorithms```."
   ]
  },
  {
   "cell_type": "markdown",
   "metadata": {},
   "source": [
    "### 2 Understand GeneticAlgorithms Packages"
   ]
  },
  {
   "cell_type": "markdown",
   "metadata": {},
   "source": [
    "### 2.1 Install Package"
   ]
  },
  {
   "cell_type": "markdown",
   "metadata": {},
   "source": [
    "The first step is to install GeneticAlgorithms package. Just simple run these below commands at your Julia REPL (Read, Evaluate, Print and Loop) console:\n",
    "\n",
    "```\n",
    "Pkg.add(\"GeneticAlgorithms\")\n",
    "Pkg.update();\n",
    "```"
   ]
  },
  {
   "cell_type": "markdown",
   "metadata": {},
   "source": [
    "Then import the package in your notebook as follow:"
   ]
  },
  {
   "cell_type": "code",
   "execution_count": 1,
   "metadata": {
    "collapsed": false
   },
   "outputs": [
    {
     "name": "stderr",
     "output_type": "stream",
     "text": [
      "\n",
      "WARNING: deprecated syntax \"{a for a in b}\" at /Users/diego/.julia/v0.4/GeneticAlgorithms/src/GeneticAlgorithms.jl:158.\n",
      "Use \"Any[a for a in b]\" instead.\n"
     ]
    }
   ],
   "source": [
    "using GeneticAlgorithms"
   ]
  },
  {
   "cell_type": "markdown",
   "metadata": {},
   "source": [
    "### 2.2 Model the Problem"
   ]
  },
  {
   "cell_type": "markdown",
   "metadata": {},
   "source": [
    "The package can be used to solve any problem that we could model as an optimization problem For our case, our space problem is the all possible routes for the five cities. To model our specific problem we need to define:\n",
    "\n",
    "- (A) Our entity that represents an instance from the population\n",
    "- (B) Fitness function to calculate a score\n",
    "- (C) Comparison function to distinguish if your current solution is better than the previous one\n",
    "- (D) Grouping strategy to select groups over a population for crossover\n",
    "- (E) Crossover over the grouped population\n",
    "- (F) Mutation over the new instance from the population"
   ]
  },
  {
   "cell_type": "markdown",
   "metadata": {},
   "source": [
    "### 2.2.1 Define an Entity"
   ]
  },
  {
   "cell_type": "markdown",
   "metadata": {},
   "source": [
    "The first step in our modelling is defining a entity of the population. An entity in our problem is a route that has as attribute the edges that connects the cities. Then we can represent our entity named ```Route``` in Julia by"
   ]
  },
  {
   "cell_type": "code",
   "execution_count": null,
   "metadata": {
    "collapsed": true
   },
   "outputs": [],
   "source": [
    "type Route <: Entity\n",
    "    edges::Array\n",
    "    fitness\n",
    "\n",
    "    Route() = new(get_random_path(N_VERTICES))\n",
    "    Route(edges) = new(edges)\n",
    "end"
   ]
  },
  {
   "cell_type": "markdown",
   "metadata": {},
   "source": [
    "Lets understand your model. By default we must inherit the abstract GeneticAlgorithms.Entity from the GA package. Also, we need to set fitness as an internal attribute that can be accessed by the framework in other inherited methods from Entity. We also define 2 Constructors. One receives the edges and the another one generate a random path with a constant ```N_VERTICES``` that we will define later on the notebook. "
   ]
  },
  {
   "cell_type": "markdown",
   "metadata": {},
   "source": [
    "### 2.3.2 Fitness and Comparison Function"
   ]
  },
  {
   "cell_type": "markdown",
   "metadata": {},
   "source": [
    "The fitness function will be used by the framework and expect an entity and returns a score. For your case the fitness function will by"
   ]
  },
  {
   "cell_type": "code",
   "execution_count": null,
   "metadata": {
    "collapsed": true
   },
   "outputs": [],
   "source": [
    "function fitness(ent)\n",
    "    sum(map(e -> COSTS[first(e), last(e)], ent.edges))\n",
    "end"
   ]
  },
  {
   "cell_type": "markdown",
   "metadata": {},
   "source": [
    "Also we need to define a comparison function to indicates what is the best solution from the previous and current one. The best score in our case is the one that has a lower score. Thus, we define as"
   ]
  },
  {
   "cell_type": "code",
   "execution_count": null,
   "metadata": {
    "collapsed": true
   },
   "outputs": [],
   "source": [
    "function GeneticAlgorithms.isless(lhs::Route, rhs::Route)\n",
    "    abs(lhs.fitness) > abs(rhs.fitness)\n",
    "end"
   ]
  },
  {
   "cell_type": "markdown",
   "metadata": {},
   "source": [
    "### 2.3.3 Grouping Entities"
   ]
  },
  {
   "cell_type": "markdown",
   "metadata": {},
   "source": [
    "Before we make the crossover on the entities we need to group them by some criteria. As in our example we don't have any specific restriction we define a naive one as following"
   ]
  },
  {
   "cell_type": "code",
   "execution_count": null,
   "metadata": {
    "collapsed": true
   },
   "outputs": [],
   "source": [
    "function group_entities(pop)\n",
    "    if pop[1].fitness <= STOP_COST\n",
    "        return\n",
    "    end\n",
    "\n",
    "    # simple naive groupings that pair the best entitiy with every other\n",
    "    for i in 1:length(pop)\n",
    "        produce([1, i])\n",
    "    end\n",
    "end"
   ]
  },
  {
   "cell_type": "markdown",
   "metadata": {},
   "source": [
    "Also here we define a criteria to stop making groups and interrupt the process of searching for new solutions. Then, we define a constant named ```STOP_COST```."
   ]
  },
  {
   "cell_type": "markdown",
   "metadata": {},
   "source": [
    "### 2.3.4 Define Crossover"
   ]
  },
  {
   "cell_type": "markdown",
   "metadata": {},
   "source": [
    "Crossover is a basic operator in GA that combines instances from the population producing a new generation. Then, we propose the use of [crossover order](http://bit.ly/1XU0HWN) to preserve the order from the parents in the new generation. Also we limitated the crossover between the two instances from the group."
   ]
  },
  {
   "cell_type": "code",
   "execution_count": 4,
   "metadata": {
    "collapsed": false
   },
   "outputs": [
    {
     "data": {
      "text/plain": [
       "crossover (generic function with 1 method)"
      ]
     },
     "execution_count": 4,
     "metadata": {},
     "output_type": "execute_result"
    }
   ],
   "source": [
    "# CrossOver OX (Based on source: http://bit.ly/1XU0HWN)\n",
    "function crossover(group)\n",
    "    child = Route()\n",
    "\n",
    "    num_parents = length(group)\n",
    "    num_parents < 2 && return child\n",
    "\n",
    "    vertices_1 = edges2vertices(group[1].edges)\n",
    "    vertices_2 = edges2vertices(group[2].edges)\n",
    "    \n",
    "    n1, n2 = shuffle(collect(1:length(vertices_1)))[1:2]\n",
    "    e1, e2 = min(n1, n2)[1], max(n1, n2)[1]\n",
    "\n",
    "    fixed_vertices = vertices_1[e1:e2]\n",
    "    vertices_1 = filter(v -> !(v in fixed_vertices), vertices_1)\n",
    "    new_vertices = []\n",
    "    \n",
    "    count_fixed, count_1, count_2 = 1, 1, 1\n",
    "    for i=1:length(vertices_2)\n",
    "        if e1 <= i <= e2\n",
    "            push!(new_vertices, fixed_vertices[count_fixed])\n",
    "            count_fixed += 1\n",
    "        else\n",
    "            if !(vertices_2[count_2] in fixed_vertices) &&\n",
    "               !(vertices_2[count_2] in new_vertices)\n",
    "                push!(new_vertices, vertices_2[count_2])\n",
    "                vertices_1 = filter(v-> v != vertices_2[count_2], vertices_1)\n",
    "                count_2 += 1\n",
    "            else\n",
    "                push!(new_vertices, vertices_1[count_1])\n",
    "                vertices_2 = filter(v-> v != vertices_1[count_1], vertices_2)\n",
    "                count_1 += 1\n",
    "            end\n",
    "        end\n",
    "    end\n",
    "    \n",
    "    child.edges = vertices2edges(new_vertices)\n",
    "    return child\n",
    "end"
   ]
  },
  {
   "cell_type": "markdown",
   "metadata": {},
   "source": [
    "### 2.3.5 Define Mutation"
   ]
  },
  {
   "cell_type": "markdown",
   "metadata": {},
   "source": [
    "The mutation act directly on a single entity and is responsable to produce some changes by chance over a new generation. We define ours by"
   ]
  },
  {
   "cell_type": "code",
   "execution_count": null,
   "metadata": {
    "collapsed": true
   },
   "outputs": [],
   "source": [
    "function mutate(ent)\n",
    "    # Mutate only in 1% of the time\n",
    "    rand(Float64) < 0.99 && return\n",
    "\n",
    "    vertices = edges2vertices(ent.edges)\n",
    "\n",
    "    # mutate\n",
    "    n1 = rand(collect(1:length(vertices)), 1)\n",
    "    n2 = rand(collect(1:length(vertices)), 1)\n",
    "\n",
    "    vertices[n1], vertices[n2] = vertices[n2], vertices[n1]\n",
    "    ent.edges = vertices2edges(vertices)\n",
    "end"
   ]
  },
  {
   "cell_type": "markdown",
   "metadata": {},
   "source": [
    "Our mutations occurs only 1% of the times that occurs a crossover. We decided to swap random vertices from the initial route generated in crossover."
   ]
  },
  {
   "cell_type": "markdown",
   "metadata": {},
   "source": [
    "### 3 Glue All Together in a Module"
   ]
  },
  {
   "cell_type": "markdown",
   "metadata": {},
   "source": [
    "After defined our six points of modelling over the framework we are ready to package our solution in a [module](http://docs.julialang.org/en/release-0.4/manual/modules/) named ```OurTSPMathModel```. Then, the summary of our modelling above can be shown by"
   ]
  },
  {
   "cell_type": "code",
   "execution_count": 18,
   "metadata": {
    "collapsed": false
   },
   "outputs": [
    {
     "name": "stderr",
     "output_type": "stream",
     "text": [
      "WARNING: replacing module OurTSPMathModel\n"
     ]
    },
    {
     "data": {
      "text/plain": [
       "OurTSPMathModel"
      ]
     },
     "execution_count": 18,
     "metadata": {},
     "output_type": "execute_result"
    }
   ],
   "source": [
    "module OurTSPMathModel\n",
    "using GeneticAlgorithms\n",
    "\n",
    "# Constants w/ vertices number and cost of our routes\n",
    "const N_VERTICES = 5\n",
    "const COSTS = [\n",
    "    0 22 41 44 50;\n",
    "    22  0 40 22 31;\n",
    "    41 40  0 22 42;\n",
    "    44 22 22  0 22;\n",
    "    50 31 42  22 0];\n",
    "\n",
    "type Route <: Entity\n",
    "    edges::Array\n",
    "    fitness\n",
    "\n",
    "    Route() = new(get_random_path(N_VERTICES))\n",
    "    Route(edges) = new(edges)\n",
    "end\n",
    "\n",
    "edges2vertices(edges) = map(e -> first(e), edges)\n",
    "\n",
    "function vertices2edges(vertices)\n",
    "    edges = map(i -> (vertices[i], vertices[i+1]), vcat(1:length(vertices)-1)) \n",
    "    push!(edges, (edges[end][2], edges[1][1]))\n",
    "end\n",
    "\n",
    "function get_random_path(n)\n",
    "    vertices = shuffle(collect(1:n))\n",
    "    vertices2edges(vertices)\n",
    "end\n",
    "\n",
    "function create_entity(num)\n",
    "    edges = get_random_path(N_VERTICES)\n",
    "    Route(edges)\n",
    "end\n",
    "\n",
    "function fitness(ent)\n",
    "    sum(map(e -> COSTS[first(e), last(e)], ent.edges))\n",
    "end\n",
    "\n",
    "function GeneticAlgorithms.isless(lhs::Route, rhs::Route)\n",
    "    abs(lhs.fitness) > abs(rhs.fitness)\n",
    "end\n",
    "\n",
    "function group_entities(pop)\n",
    "    if pop[1].fitness <= 150\n",
    "        return\n",
    "    end\n",
    "\n",
    "    # simple naive groupings that pair the best entitiy with every other\n",
    "    for i in 1:length(pop)\n",
    "        produce([1, i])\n",
    "    end\n",
    "end\n",
    "\n",
    "# CrossOver OX (Based on source: http://bit.ly/1XU0HWN)\n",
    "function crossover(group)\n",
    "    child = Route()\n",
    "\n",
    "    num_parents = length(group)\n",
    "    num_parents < 2 && return child\n",
    "\n",
    "    vertices_1 = edges2vertices(group[1].edges)\n",
    "    vertices_2 = edges2vertices(group[2].edges)\n",
    "    \n",
    "    n1, n2 = shuffle(collect(1:length(vertices_1)))[1:2]\n",
    "    e1, e2 = min(n1, n2)[1], max(n1, n2)[1]\n",
    "\n",
    "    fixed_vertices = vertices_1[e1:e2]\n",
    "    vertices_1 = filter(v -> !(v in fixed_vertices), vertices_1)\n",
    "    new_vertices = []\n",
    "    \n",
    "    count_fixed, count_1, count_2 = 1, 1, 1\n",
    "    for i=1:length(vertices_2)\n",
    "        if e1 <= i <= e2\n",
    "            push!(new_vertices, fixed_vertices[count_fixed])\n",
    "            count_fixed += 1\n",
    "        else\n",
    "            if !(vertices_2[count_2] in fixed_vertices) &&\n",
    "               !(vertices_2[count_2] in new_vertices)\n",
    "                push!(new_vertices, vertices_2[count_2])\n",
    "                vertices_1 = filter(v-> v != vertices_2[count_2], vertices_1)\n",
    "                count_2 += 1\n",
    "            else\n",
    "                push!(new_vertices, vertices_1[count_1])\n",
    "                vertices_2 = filter(v-> v != vertices_1[count_1], vertices_2)\n",
    "                count_1 += 1\n",
    "            end\n",
    "        end\n",
    "    end\n",
    "    \n",
    "    child.edges = vertices2edges(new_vertices)\n",
    "    return child\n",
    "end\n",
    "\n",
    "function mutate(ent)\n",
    "    # Mutate only in 1% of the time\n",
    "    rand(Float64) < 0.99 && return\n",
    "\n",
    "    vertices = edges2vertices(ent.edges)\n",
    "\n",
    "    # mutate\n",
    "    n1 = rand(collect(1:length(vertices)), 1)\n",
    "    n2 = rand(collect(1:length(vertices)), 1)\n",
    "\n",
    "    vertices[n1], vertices[n2] = vertices[n2], vertices[n1]\n",
    "    ent.edges = vertices2edges(vertices)\n",
    "end\n",
    "end"
   ]
  },
  {
   "cell_type": "markdown",
   "metadata": {},
   "source": [
    "As a matter of simplification we added the costs and vertices number in the beginning of the module. Also we defined some auxiliar functions to better encapsulate responsabilities and facilitate the reuse of code. For example, ```edges2vertices```, ```vertices2edges``` and ```get_random_path``` are functions that were not commented at section 2 but are of importance to the all GA algorithm works. They represents transformation from edges to vertices, vertices to edges and generate random routes respectively."
   ]
  },
  {
   "cell_type": "markdown",
   "metadata": {},
   "source": [
    "### 4 Run our GA Model"
   ]
  },
  {
   "cell_type": "markdown",
   "metadata": {},
   "source": [
    "Is very easy to run our GA model. First we need to import the ```GeneticAlgorithms```, create our model and call the ```population``` method."
   ]
  },
  {
   "cell_type": "code",
   "execution_count": 13,
   "metadata": {
    "collapsed": false
   },
   "outputs": [],
   "source": [
    "using GeneticAlgorithms"
   ]
  },
  {
   "cell_type": "code",
   "execution_count": 25,
   "metadata": {
    "collapsed": false
   },
   "outputs": [
    {
     "name": "stderr",
     "output_type": "stream",
     "text": [
      "WARNING: sizehint(A,n) is deprecated, use sizehint!(A,n) instead.\n",
      " in depwarn at deprecated.jl:73\n",
      " in sizehint at deprecated.jl:50\n",
      " in crossover_population at /Users/diego/.julia/v0.4/GeneticAlgorithms/src/GeneticAlgorithms.jl:150\n",
      " in runga at /Users/diego/.julia/v0.4/GeneticAlgorithms/src/GeneticAlgorithms.jl:110\n",
      " in runga at /Users/diego/.julia/v0.4/GeneticAlgorithms/src/GeneticAlgorithms.jl:89\n",
      " in include_string at loading.jl:266\n",
      " in execute_request_0x535c5df2 at /Users/diego/.julia/v0.4/IJulia/src/execute_request.jl:177\n",
      " in eventloop at /Users/diego/.julia/v0.4/IJulia/src/IJulia.jl:141\n",
      " in anonymous at task.jl:447\n",
      "while loading In[25], in expression starting on line 1\n",
      "WARNING: sizehint(A,n) is deprecated, use sizehint!(A,n) instead.\n",
      " in depwarn at deprecated.jl:73\n",
      " in sizehint at deprecated.jl:50\n",
      " in crossover_population at /Users/diego/.julia/v0.4/GeneticAlgorithms/src/GeneticAlgorithms.jl:153\n",
      " in runga at /Users/diego/.julia/v0.4/GeneticAlgorithms/src/GeneticAlgorithms.jl:110\n",
      " in runga at /Users/diego/.julia/v0.4/GeneticAlgorithms/src/GeneticAlgorithms.jl:89\n",
      " in include_string at loading.jl:266\n",
      " in execute_request_0x535c5df2 at /Users/diego/.julia/v0.4/IJulia/src/execute_request.jl:177\n",
      " in eventloop at /Users/diego/.julia/v0.4/IJulia/src/IJulia.jl:141\n",
      " in anonymous at task.jl:447\n",
      "while loading In[25], in expression starting on line 1\n"
     ]
    },
    {
     "data": {
      "text/plain": [
       "8-element Array{Any,1}:\n",
       " OurTSPMathModel.Route([(3,1),(1,2),(2,4),(4,5),(5,3)],149)\n",
       " OurTSPMathModel.Route([(5,1),(1,2),(2,4),(4,3),(3,5)],158)\n",
       " OurTSPMathModel.Route([(5,1),(1,2),(2,4),(4,3),(3,5)],158)\n",
       " OurTSPMathModel.Route([(5,1),(1,2),(2,4),(4,3),(3,5)],158)\n",
       " OurTSPMathModel.Route([(5,1),(1,2),(2,4),(4,3),(3,5)],158)\n",
       " OurTSPMathModel.Route([(5,1),(1,2),(2,4),(4,3),(3,5)],158)\n",
       " OurTSPMathModel.Route([(5,1),(1,2),(2,4),(4,3),(3,5)],158)\n",
       " OurTSPMathModel.Route([(5,1),(1,4),(4,2),(2,3),(3,5)],198)"
      ]
     },
     "execution_count": 25,
     "metadata": {},
     "output_type": "execute_result"
    }
   ],
   "source": [
    "model = runga(OurTSPMathModel; initial_pop_size = 8)\n",
    "population(model)"
   ]
  },
  {
   "cell_type": "markdown",
   "metadata": {},
   "source": [
    "From the above results we can see that it generates 8 outputs that corresponds each one from the initial instance from the initial population. By observation we see that each run produces differents results and this is due by the crossover and mutation characteristic of the algorithm. Also we can observes that for this time the best route is:\n",
    "\n",
    "    [(3,1),(1,2),(2,4),(4,5),(5,3)] with cost 149 and is shown by Figure 2.\n"
   ]
  },
  {
   "cell_type": "code",
   "execution_count": null,
   "metadata": {
    "collapsed": true
   },
   "outputs": [],
   "source": []
  },
  {
   "cell_type": "markdown",
   "metadata": {},
   "source": [
    "Supposing that the best solution is 138, we can calculate the gap between then by $\\frac{Opt-He}{Opt} \\times 100 = -7.98$. That is not bad! If we were more paciente we could run more trials and draw the best solution from the proposed solutions shown."
   ]
  },
  {
   "cell_type": "markdown",
   "metadata": {},
   "source": [
    "### 6 Final Considerations"
   ]
  },
  {
   "cell_type": "markdown",
   "metadata": {},
   "source": [
    "This notebook was the aim of showing how to use GA algorithms in Julia. Also wanted to introduce new concepts and highlights how simple can be solve problems in Julia."
   ]
  },
  {
   "cell_type": "markdown",
   "metadata": {},
   "source": [
    "### 7 About the Author"
   ]
  },
  {
   "cell_type": "markdown",
   "metadata": {},
   "source": [
    "Oliveira, Diego M. is a Ph.D. candidate in Applyed Mathematics and Modelling by Universidade Aberta de Lisboa and has a Master in Computer Science by Universidade Federal de Minas Gerais. He has passion with Data Science and has broad experience in many fields as Natural Language Processing, Recommendation Systems, Machine Learning, Software Engineering, Statistics and Mathematics. Publish almost daily posts about Machine Learning on Linkedin and PracticalLearning.io. Has ZMData as a consulting company in Machine Learning, Data Science and Big Data problems and works for clients around the globe (US, Europe, among others)."
   ]
  }
 ],
 "metadata": {
  "kernelspec": {
   "display_name": "Julia 0.4.1-pre",
   "language": "julia",
   "name": "julia-0.4"
  },
  "language_info": {
   "file_extension": ".jl",
   "mimetype": "application/julia",
   "name": "julia",
   "version": "0.4.1"
  }
 },
 "nbformat": 4,
 "nbformat_minor": 0
}
