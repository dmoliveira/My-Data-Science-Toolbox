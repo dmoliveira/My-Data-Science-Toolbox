{
 "cells": [
  {
   "cell_type": "markdown",
   "metadata": {},
   "source": [
    "<img src=\"https://kaggle2.blob.core.windows.net/competitions/kaggle/4654/logos/front_page.png\"/>\n",
    "# <span style=\"color:blue;text-align:center;\">Trip Type Classification: v1 Initial Steps</span>"
   ]
  },
  {
   "cell_type": "markdown",
   "metadata": {},
   "source": [
    "Walmart uses both art and science to continually make progress on their core mission of better understanding and serving their customers. One way Walmart is able to improve customers' shopping experiences is by segmenting their store visits into different trip types.\n",
    "<img src=\"https://kaggle2.blob.core.windows.net/competitions/kaggle/4654/media/walmart_triptypes640.png\"/>"
   ]
  },
  {
   "cell_type": "markdown",
   "metadata": {},
   "source": [
    "## Import Packages"
   ]
  },
  {
   "cell_type": "code",
   "execution_count": 5,
   "metadata": {
    "collapsed": false
   },
   "outputs": [
    {
     "name": "stderr",
     "output_type": "stream",
     "text": [
      "WARNING: Base.String is deprecated, use AbstractString instead.\n",
      "  likely near /Users/diego/.julia/v0.4/MLBase/src/modeltune.jl:5\n",
      "WARNING: Base.String is deprecated, use AbstractString instead.\n",
      "  likely near /Users/diego/.julia/v0.4/MLBase/src/modeltune.jl:5\n",
      "WARNING: Base.String is deprecated, use AbstractString instead.\n",
      "  likely near /Users/diego/.julia/v0.4/MLBase/src/modeltune.jl:5\n",
      "WARNING: Base.FloatingPoint is deprecated, use AbstractFloat instead.\n",
      "  likely near /Users/diego/.julia/v0.4/MLBase/src/deprecated/datapre.jl:104\n",
      "WARNING: Base.FloatingPoint is deprecated, use AbstractFloat instead.\n",
      "  likely near /Users/diego/.julia/v0.4/MLBase/src/deprecated/datapre.jl:105\n",
      "WARNING: Base.FloatingPoint is deprecated, use AbstractFloat instead.\n",
      "  likely near /Users/diego/.julia/v0.4/MLBase/src/deprecated/datapre.jl:163\n",
      "WARNING: Base.FloatingPoint is deprecated, use AbstractFloat instead.\n",
      "  likely near /Users/diego/.julia/v0.4/MLBase/src/deprecated/datapre.jl:163\n",
      "WARNING: Base.FloatingPoint is deprecated, use AbstractFloat instead.\n",
      "  likely near /Users/diego/.julia/v0.4/MLBase/src/deprecated/datapre.jl:163\n"
     ]
    }
   ],
   "source": [
    "using DataFrames\n",
    "using XGBoost\n",
    "using MLBase\n",
    "using DecisionTree\n",
    "using Gadfly"
   ]
  },
  {
   "cell_type": "markdown",
   "metadata": {},
   "source": [
    "## Load Data"
   ]
  },
  {
   "cell_type": "code",
   "execution_count": 19,
   "metadata": {
    "collapsed": false
   },
   "outputs": [
    {
     "name": "stderr",
     "output_type": "stream",
     "text": [
      "WARNING: imported binding for full overwritten in module Main\n"
     ]
    }
   ],
   "source": [
    "train = readtable(\"data/train.csv.gz\")\n",
    "test = readtable(\"data/test.csv.gz\")\n",
    "full = vcat(train, test);"
   ]
  },
  {
   "cell_type": "markdown",
   "metadata": {},
   "source": [
    "## Visualize Sample Data"
   ]
  },
  {
   "cell_type": "code",
   "execution_count": null,
   "metadata": {
    "collapsed": false
   },
   "outputs": [],
   "source": [
    "@show size(train)\n",
    "@show size(test)\n",
    "@show size(full);"
   ]
  },
  {
   "cell_type": "code",
   "execution_count": null,
   "metadata": {
    "collapsed": false
   },
   "outputs": [],
   "source": [
    "head(full)"
   ]
  },
  {
   "cell_type": "code",
   "execution_count": null,
   "metadata": {
    "collapsed": false
   },
   "outputs": [],
   "source": [
    "showcols(train)\n",
    "showcols(test)"
   ]
  },
  {
   "cell_type": "markdown",
   "metadata": {},
   "source": [
    "## Data Uniquiness"
   ]
  },
  {
   "cell_type": "code",
   "execution_count": null,
   "metadata": {
    "collapsed": false
   },
   "outputs": [],
   "source": [
    "plot(x=map(c -> length(Set(dropna(full[c])))/length(dropna(full[c])), names(full)), \n",
    "     y=names(full), Geom.bar(orientation=:horizontal))"
   ]
  },
  {
   "cell_type": "markdown",
   "metadata": {},
   "source": [
    "## Handle Missing Data"
   ]
  },
  {
   "cell_type": "code",
   "execution_count": null,
   "metadata": {
    "collapsed": false
   },
   "outputs": [],
   "source": [
    "apply_default_null_column!(df, column, value) = df[isna(df[column]), column] = value;"
   ]
  },
  {
   "cell_type": "code",
   "execution_count": null,
   "metadata": {
    "collapsed": false
   },
   "outputs": [],
   "source": [
    "[apply_default_null_column!(df, :Upc, -1) for df in [train, test, full]]\n",
    "[apply_default_null_column!(df, :FinelineNumber, -1) for df in [train, test, full]]\n",
    "apply_default_null_column!(full, :TripType, median(dropna(full[:TripType])));"
   ]
  },
  {
   "cell_type": "markdown",
   "metadata": {},
   "source": [
    "## Feature Encoding"
   ]
  },
  {
   "cell_type": "code",
   "execution_count": 16,
   "metadata": {
    "collapsed": true
   },
   "outputs": [],
   "source": [
    "categorical_features = [:TripType, :Weekday, :Upc, :DepartmentDescription, :FinelineNumber];"
   ]
  },
  {
   "cell_type": "code",
   "execution_count": 17,
   "metadata": {
    "collapsed": false
   },
   "outputs": [
    {
     "data": {
      "text/plain": [
       "apply_encoding! (generic function with 1 method)"
      ]
     },
     "execution_count": 17,
     "metadata": {},
     "output_type": "execute_result"
    }
   ],
   "source": [
    "apply_encoding!(df, column, label) = df[column] = labelencode(label, df[column])"
   ]
  },
  {
   "cell_type": "code",
   "execution_count": 20,
   "metadata": {
    "collapsed": false
   },
   "outputs": [
    {
     "name": "stderr",
     "output_type": "stream",
     "text": [
      "\n",
      "WARNING: deprecated syntax \"{a=>b for (a,b) in c}\" at In[20]:1.\n",
      "Use \"Dict{Any,Any}([a=>b for (a,b) in c])\" instead.\n"
     ]
    }
   ],
   "source": [
    "labels = Dict({column => labelmap(convert(Array, dropna(full[column]))) for column in categorical_features});"
   ]
  },
  {
   "cell_type": "code",
   "execution_count": null,
   "metadata": {
    "collapsed": false
   },
   "outputs": [],
   "source": [
    "[apply_encoding!(train, column, labels[column]) for column in categorical_features]\n",
    "[apply_encoding!(test, column, labels[column]) for column in setdiff(categorical_features, [:TripType])]\n",
    "[apply_encoding!(full, column, labels[column]) for column in categorical_features];"
   ]
  },
  {
   "cell_type": "markdown",
   "metadata": {},
   "source": [
    "### Store Shallow Feature Engineering"
   ]
  },
  {
   "cell_type": "code",
   "execution_count": null,
   "metadata": {
    "collapsed": true
   },
   "outputs": [],
   "source": [
    "writetable(\"data/train_shallow_featured.tsv\", train, separator='\\t')\n",
    "writetable(\"data/test_shallow_featured.tsv\", test, separator='\\t')\n",
    "writetable(\"data/full_shallow_featured.tsv\", full, separator='\\t');"
   ]
  },
  {
   "cell_type": "markdown",
   "metadata": {},
   "source": [
    "## Train 1st Model"
   ]
  },
  {
   "cell_type": "code",
   "execution_count": 69,
   "metadata": {
    "collapsed": false
   },
   "outputs": [],
   "source": [
    "train = readtable(\"data/train_shallow_featured.tsv\", separator='\\t')\n",
    "test = readtable(\"data/test_shallow_featured.tsv\", separator='\\t');"
   ]
  },
  {
   "cell_type": "code",
   "execution_count": 70,
   "metadata": {
    "collapsed": false
   },
   "outputs": [],
   "source": [
    "train = train[:, :]\n",
    "test = test[:, :];"
   ]
  },
  {
   "cell_type": "code",
   "execution_count": 15,
   "metadata": {
    "collapsed": true
   },
   "outputs": [],
   "source": [
    "features = [:Weekday, :Upc, :ScanCount, :DepartmentDescription, :FinelineNumber]\n",
    "label = :TripType;"
   ]
  },
  {
   "cell_type": "code",
   "execution_count": 9,
   "metadata": {
    "collapsed": false
   },
   "outputs": [
    {
     "data": {
      "text/plain": [
       "split_train_val (generic function with 1 method)"
      ]
     },
     "execution_count": 9,
     "metadata": {},
     "output_type": "execute_result"
    }
   ],
   "source": [
    "function split_train_val(df; train_size=.85, random_state=1)\n",
    "    srand(random_state)\n",
    "    nrows = size(df, 1)\n",
    "    indexes = shuffle(collect(1:nrows))\n",
    "    train = df[indexes[1:round(Int, nrows*train_size)], :]\n",
    "    validation = df[indexes[(round(Int, nrows*train_size)+1):end], :] \n",
    "    return train, validation\n",
    "end"
   ]
  },
  {
   "cell_type": "markdown",
   "metadata": {},
   "source": [
    "### Prepare Training Data"
   ]
  },
  {
   "cell_type": "code",
   "execution_count": 71,
   "metadata": {
    "collapsed": false
   },
   "outputs": [],
   "source": [
    "X_train, X_val = split_train_val(train, train_size=.85, random_state=1)\n",
    "train_x = convert(Array{Float64,2}, X_train[:, features])\n",
    "train_y = convert(Array{Float64,1}, X_train[label])\n",
    "val_x = convert(Array{Float64,2}, X_val[:, features])\n",
    "val_y = convert(Array{Float64,1}, X_val[label])\n",
    "test_x = Array{Float64,2}(test[:, features]);"
   ]
  },
  {
   "cell_type": "code",
   "execution_count": 72,
   "metadata": {
    "collapsed": true
   },
   "outputs": [],
   "source": [
    "dtrain = DMatrix(train_x, label=train_y)\n",
    "dval = DMatrix(val_x, label=val_y);"
   ]
  },
  {
   "cell_type": "markdown",
   "metadata": {},
   "source": [
    "#### XGBoost (Slow)"
   ]
  },
  {
   "cell_type": "code",
   "execution_count": null,
   "metadata": {
    "collapsed": false
   },
   "outputs": [],
   "source": [
    "num_rounds = 100\n",
    "params = Dict({\"objective\" => \"multi:softmax\",\n",
    "               \"booster\" => \"gbtree\",\n",
    "               \"eta\" => 0.1,\n",
    "               \"max_depth\" => 5,\n",
    "               \"subsample\" => 0.85\n",
    "              })\n",
    "watchlist = [(dtrain, \"train\"), (dval, \"eval\")]\n",
    "\n",
    "println(\"Base Model\")\n",
    "tic()\n",
    "num_class = length(labels[label])+1\n",
    "model = XGBoost.xgboost(dtrain, num_rounds, param=params, \n",
    "                        num_class=num_class, watchlist=watchlist)\n",
    "toc()"
   ]
  },
  {
   "cell_type": "code",
   "execution_count": null,
   "metadata": {
    "collapsed": false
   },
   "outputs": [],
   "source": [
    "X_train[:YHat] = convert(Array{Int32,1}, XGBoost.predict(model, train_x))\n",
    "X_val[:YHat] = convert(Array{Int32,1}, XGBoost.predict(model, val_x))\n",
    "test[:YHat] = convert(Array{Int32,1}, XGBoost.predict(model, test_x));"
   ]
  },
  {
   "cell_type": "markdown",
   "metadata": {},
   "source": [
    "#### Random Forest"
   ]
  },
  {
   "cell_type": "code",
   "execution_count": null,
   "metadata": {
    "collapsed": false
   },
   "outputs": [],
   "source": [
    "model = build_forest(train_y, train_x, 5, 100, 0.5)"
   ]
  },
  {
   "cell_type": "code",
   "execution_count": null,
   "metadata": {
    "collapsed": false
   },
   "outputs": [],
   "source": [
    "X_train[:YHat] = round(Int32, apply_forest(model, train_x))\n",
    "X_val[:YHat] = round(Int32, apply_forest(model, val_x));\n",
    "# test[:YHat] = round(Int32, apply_forest(model, test_x));"
   ]
  },
  {
   "cell_type": "markdown",
   "metadata": {},
   "source": [
    "## Group Probabilities Predictions by Visit Number"
   ]
  },
  {
   "cell_type": "code",
   "execution_count": 23,
   "metadata": {
    "collapsed": false
   },
   "outputs": [
    {
     "data": {
      "text/plain": [
       "group_probabilities_by_visit_number (generic function with 1 method)"
      ]
     },
     "execution_count": 23,
     "metadata": {},
     "output_type": "execute_result"
    }
   ],
   "source": [
    "trip_type_sorted_list = map(Float64, sort(keys(labels[label])))\n",
    "function group_probabilities_by_visit_number(df, column)\n",
    "    data = Array[]\n",
    "    for subdf in groupby(df, column)\n",
    "        row = fill(0.0, length(trip_type_sorted_list)+1)\n",
    "        row[1] = round(Int, subdf[1, column])\n",
    "        trip_type_prob = proportionmap(subdf[:YHat])\n",
    "        index = 2\n",
    "        for trip_type_key in trip_type_sorted_list\n",
    "            if haskey(trip_type_prob, trip_type_key)\n",
    "                row[index] = trip_type_prob[trip_type_key]\n",
    "            end\n",
    "            index += 1\n",
    "        end\n",
    "        push!(data, row)\n",
    "    end\n",
    "    nrows = size(data,1)\n",
    "    ncols = size(data[1],1)\n",
    "    dataframe = convert(DataFrame, reshape(vcat(data'...), (nrows, ncols)))\n",
    "    new_columns_name = vcat(:VisitNumber, map(k -> symbol(\"TripType_$(round(Int, k))\"), trip_type_sorted_list))\n",
    "    names!(dataframe, new_columns_name)\n",
    "    dataframe[:VisitNumber] = Array{Int64}(dataframe[:VisitNumber])\n",
    "    return dataframe\n",
    "end"
   ]
  },
  {
   "cell_type": "code",
   "execution_count": null,
   "metadata": {
    "collapsed": false
   },
   "outputs": [],
   "source": [
    "train_data = group_probabilities_by_visit_number(X_train, :VisitNumber)\n",
    "val_data = group_probabilities_by_visit_number(X_val, :VisitNumber)\n",
    "# submission_data = sort(group_probabilities_by_visit_number(test, :VisitNumber), cols=[:VisitNumber]);"
   ]
  },
  {
   "cell_type": "markdown",
   "metadata": {},
   "source": [
    "## Evaluate 1st Model"
   ]
  },
  {
   "cell_type": "markdown",
   "metadata": {},
   "source": [
    "1. Evaluate by **Accuracy (Acc)**: $\\frac{TP+TN}{TP+FP+FN+TN}$\n",
    "2. Evaluate by **Multi-Class Logarithmic Loss (MCLL)**: $-1\\frac{1}{N}\\sum_{i=1}^{N}\\sum_{j=1}^{M}\\delta_{ij}log(p_{ij})$  \n",
    "    where N is the number of visits, M is the number of trip type, $y_{ij}$ is the [Kroneckler Delta](https://en.wikipedia.org/wiki/Kronecker_delta) when the observations exists in test file and $p_{ij}$ is the corresponding prediction."
   ]
  },
  {
   "cell_type": "code",
   "execution_count": 58,
   "metadata": {
    "collapsed": false
   },
   "outputs": [
    {
     "data": {
      "text/plain": [
       "eval_acc (generic function with 1 method)"
      ]
     },
     "execution_count": 58,
     "metadata": {},
     "output_type": "execute_result"
    }
   ],
   "source": [
    "function create_visit_number_dict(groundtruth)\n",
    "    visit_number_dict = Dict{Int64, Set{Int64}}()\n",
    "    for i = 1:size(groundtruth, 1)\n",
    "        visit_number = groundtruth[i, :VisitNumber]\n",
    "        if !haskey(visit_number_dict, visit_number)\n",
    "            visit_number_dict[visit_number] = Set{Int64}()\n",
    "        end\n",
    "        push!(visit_number_dict[visit_number], groundtruth[i, label])\n",
    "    end\n",
    "    \n",
    "    return visit_number_dict\n",
    "end\n",
    "\n",
    "function eval_mcll(groundtruth, df)\n",
    "    vn_dict = create_visit_number_dict(groundtruth)\n",
    "    \n",
    "    total_score = 0\n",
    "    c = 0\n",
    "    N, M = size(df)\n",
    "    for i = 1:N, j = 2:M\n",
    "        visit_number = df[i, :VisitNumber]\n",
    "        trip_type = trip_type_sorted_list[j-1]\n",
    "        yhat = df[i, j]\n",
    "        in_gt = trip_type in vn_dict[visit_number]\n",
    "        total_score += in_gt? (yhat > 0? log(yhat) : 0) : 0\n",
    "    end\n",
    "    \n",
    "    return -1/N * total_score\n",
    "end\n",
    "\n",
    "function eval_acc(y, yhat)\n",
    "    N = length(y)\n",
    "    TP = sum([y[i] == yhat[i]? 1 : 0 for i = 1:N])\n",
    "    return round(TP/N, 2)\n",
    "end"
   ]
  },
  {
   "cell_type": "code",
   "execution_count": null,
   "metadata": {
    "collapsed": false
   },
   "outputs": [],
   "source": [
    "eval_acc_train = eval_acc(X_train[label], X_train[:YHat])\n",
    "eval_acc_val = eval_acc(X_val[label], X_val[:YHat])\n",
    "eval_mcll_train = eval_mcll(X_train, train_data) \n",
    "eval_mcll_val = eval_mcll(X_val, val_data)\n",
    "println(\"Acc - Score-Train: $eval_acc_train\\tScore-Val: $eval_acc_val\")\n",
    "println(\"MCLL - Score-Train: $eval_mcll_train\\tScore-Val: $eval_mcll_val\")"
   ]
  },
  {
   "cell_type": "markdown",
   "metadata": {},
   "source": [
    "## Generate Submission Files"
   ]
  },
  {
   "cell_type": "code",
   "execution_count": null,
   "metadata": {
    "collapsed": false
   },
   "outputs": [],
   "source": [
    "writetable(\"data/submission_v1.1_rforest.csv\", submission_data);"
   ]
  },
  {
   "cell_type": "markdown",
   "metadata": {},
   "source": [
    "## Submit Predictions to Kaggle"
   ]
  },
  {
   "cell_type": "markdown",
   "metadata": {},
   "source": [
    "v1 - Raw Attributes + Handle Missing Values with Median **.** (Acc-Tra:.98, Acc-Val:.78, MCLL-Tra:.0, MCLL-Val:.0)\n",
    "train-merror:0.034118\teval-merror:0.260000\n",
    "v1.1 - Raw Attr. + Handle Missing + RF(RFeat5, Trees100, Subs.5) + All Data **.** (Acc - Score-Train: 0.11\tScore-Val: 0.07)  \n",
    "v1 - Raw Attr. + Handle Missing + RF(RFeat5, Trees100, Subs.5) + SubSample **34.13327** (Acc - Score-Train: 0.32\tScore-Val: 0.15)"
   ]
  }
 ],
 "metadata": {
  "kernelspec": {
   "display_name": "Julia 0.4.1-pre",
   "language": "julia",
   "name": "julia-0.4"
  },
  "language_info": {
   "file_extension": ".jl",
   "mimetype": "application/julia",
   "name": "julia",
   "version": "0.4.1"
  }
 },
 "nbformat": 4,
 "nbformat_minor": 0
}
