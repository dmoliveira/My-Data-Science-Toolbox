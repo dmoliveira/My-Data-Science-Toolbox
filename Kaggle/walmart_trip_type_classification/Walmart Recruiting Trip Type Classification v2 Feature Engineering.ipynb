{
 "cells": [
  {
   "cell_type": "markdown",
   "metadata": {},
   "source": [
    "<img src=\"https://kaggle2.blob.core.windows.net/competitions/kaggle/4654/logos/front_page.png\"/>\n",
    "# <span style=\"color:blue;text-align:center;\">Trip Type Classification: v2 Feature Engineering</span>"
   ]
  },
  {
   "cell_type": "markdown",
   "metadata": {},
   "source": [
    "Walmart uses both art and science to continually make progress on their core mission of better understanding and serving their customers. One way Walmart is able to improve customers' shopping experiences is by segmenting their store visits into different trip types.\n",
    "<img src=\"https://kaggle2.blob.core.windows.net/competitions/kaggle/4654/media/walmart_triptypes640.png\"/>"
   ]
  },
  {
   "cell_type": "markdown",
   "metadata": {},
   "source": [
    "## Import Packages"
   ]
  },
  {
   "cell_type": "code",
   "execution_count": 1,
   "metadata": {
    "collapsed": false
   },
   "outputs": [
    {
     "name": "stderr",
     "output_type": "stream",
     "text": [
      "WARNING: Base.String is deprecated, use AbstractString instead.\n",
      "  likely near /Users/diego/.julia/v0.4/MLBase/src/modeltune.jl:5\n",
      "WARNING: Base.String is deprecated, use AbstractString instead.\n",
      "  likely near /Users/diego/.julia/v0.4/MLBase/src/modeltune.jl:5\n",
      "WARNING: Base.String is deprecated, use AbstractString instead.\n",
      "  likely near /Users/diego/.julia/v0.4/MLBase/src/modeltune.jl:5\n",
      "WARNING: Base.FloatingPoint is deprecated, use AbstractFloat instead.\n",
      "  likely near /Users/diego/.julia/v0.4/MLBase/src/deprecated/datapre.jl:104\n",
      "WARNING: Base.FloatingPoint is deprecated, use AbstractFloat instead.\n",
      "  likely near /Users/diego/.julia/v0.4/MLBase/src/deprecated/datapre.jl:105\n",
      "WARNING: Base.FloatingPoint is deprecated, use AbstractFloat instead.\n",
      "  likely near /Users/diego/.julia/v0.4/MLBase/src/deprecated/datapre.jl:163\n",
      "WARNING: Base.FloatingPoint is deprecated, use AbstractFloat instead.\n",
      "  likely near /Users/diego/.julia/v0.4/MLBase/src/deprecated/datapre.jl:163\n",
      "WARNING: Base.FloatingPoint is deprecated, use AbstractFloat instead.\n",
      "  likely near /Users/diego/.julia/v0.4/MLBase/src/deprecated/datapre.jl:163\n"
     ]
    }
   ],
   "source": [
    "using DataFrames\n",
    "using MLBase\n",
    "using Gadfly"
   ]
  },
  {
   "cell_type": "markdown",
   "metadata": {},
   "source": [
    "## Load Data"
   ]
  },
  {
   "cell_type": "code",
   "execution_count": 2,
   "metadata": {
    "collapsed": false
   },
   "outputs": [],
   "source": [
    "train = readtable(\"data/train.csv.gz\")\n",
    "test = readtable(\"data/test.csv.gz\")\n",
    "full = vcat(train, test);"
   ]
  },
  {
   "cell_type": "markdown",
   "metadata": {},
   "source": [
    "## Visualize Sample Data"
   ]
  },
  {
   "cell_type": "code",
   "execution_count": null,
   "metadata": {
    "collapsed": false
   },
   "outputs": [],
   "source": [
    "@show size(train)\n",
    "@show size(test)\n",
    "@show size(full);"
   ]
  },
  {
   "cell_type": "code",
   "execution_count": null,
   "metadata": {
    "collapsed": false
   },
   "outputs": [],
   "source": [
    "head(full)"
   ]
  },
  {
   "cell_type": "code",
   "execution_count": null,
   "metadata": {
    "collapsed": false
   },
   "outputs": [],
   "source": [
    "showcols(train)\n",
    "showcols(test)"
   ]
  },
  {
   "cell_type": "markdown",
   "metadata": {},
   "source": [
    "## Data Uniquiness"
   ]
  },
  {
   "cell_type": "code",
   "execution_count": null,
   "metadata": {
    "collapsed": false
   },
   "outputs": [],
   "source": [
    "plot(x=map(c -> length(Set(dropna(full[c])))/length(dropna(full[c])), names(full)), \n",
    "     y=names(full), Geom.bar(orientation=:horizontal))"
   ]
  },
  {
   "cell_type": "markdown",
   "metadata": {},
   "source": [
    "## Handle Missing Data"
   ]
  },
  {
   "cell_type": "code",
   "execution_count": 3,
   "metadata": {
    "collapsed": false
   },
   "outputs": [],
   "source": [
    "apply_default_null_column!(df, column, value) = df[isna(df[column]), column] = value;"
   ]
  },
  {
   "cell_type": "code",
   "execution_count": 4,
   "metadata": {
    "collapsed": false
   },
   "outputs": [],
   "source": [
    "[apply_default_null_column!(df, :Upc, -1) for df in [train, test, full]]\n",
    "[apply_default_null_column!(df, :FinelineNumber, -1) for df in [train, test, full]]\n",
    "apply_default_null_column!(full, :TripType, median(dropna(full[:TripType])));"
   ]
  },
  {
   "cell_type": "markdown",
   "metadata": {},
   "source": [
    "## Feature Encoding"
   ]
  },
  {
   "cell_type": "code",
   "execution_count": 5,
   "metadata": {
    "collapsed": true
   },
   "outputs": [],
   "source": [
    "categorical_features = [:TripType, :Weekday, :Upc, :DepartmentDescription, :FinelineNumber];"
   ]
  },
  {
   "cell_type": "code",
   "execution_count": 6,
   "metadata": {
    "collapsed": false
   },
   "outputs": [
    {
     "data": {
      "text/plain": [
       "apply_encoding! (generic function with 1 method)"
      ]
     },
     "execution_count": 6,
     "metadata": {},
     "output_type": "execute_result"
    }
   ],
   "source": [
    "apply_encoding!(df, column, label) = df[column] = labelencode(label, df[column])"
   ]
  },
  {
   "cell_type": "code",
   "execution_count": 7,
   "metadata": {
    "collapsed": false
   },
   "outputs": [
    {
     "name": "stderr",
     "output_type": "stream",
     "text": [
      "\n",
      "WARNING: deprecated syntax \"{a=>b for (a,b) in c}\" at In[7]:1.\n",
      "Use \"Dict{Any,Any}([a=>b for (a,b) in c])\" instead.\n"
     ]
    }
   ],
   "source": [
    "labels = Dict({column => labelmap(convert(Array, dropna(full[column]))) for column in categorical_features});"
   ]
  },
  {
   "cell_type": "code",
   "execution_count": 8,
   "metadata": {
    "collapsed": false
   },
   "outputs": [],
   "source": [
    "[apply_encoding!(train, column, labels[column]) for column in categorical_features]\n",
    "[apply_encoding!(test, column, labels[column]) for column in setdiff(categorical_features, [:TripType])]\n",
    "[apply_encoding!(full, column, labels[column]) for column in categorical_features];"
   ]
  },
  {
   "cell_type": "markdown",
   "metadata": {},
   "source": [
    "## Feature Engineering "
   ]
  },
  {
   "cell_type": "code",
   "execution_count": 12,
   "metadata": {
    "collapsed": true
   },
   "outputs": [],
   "source": [
    "all_upc = Set{Int32}(full[:Upc])\n",
    "all_fineline_number = Set{Int16}(full[:FinelineNumber])\n",
    "all_departments = Set{Int8}(full[:DepartmentDescription]);"
   ]
  },
  {
   "cell_type": "code",
   "execution_count": 30,
   "metadata": {
    "collapsed": false
   },
   "outputs": [
    {
     "data": {
      "text/plain": [
       "add_relationship_feature! (generic function with 1 method)"
      ]
     },
     "execution_count": 30,
     "metadata": {},
     "output_type": "execute_result"
    }
   ],
   "source": [
    "function add_relationship_feature!(df, column, all_possible_values_list)\n",
    "    data = Array{Int8,1}[]\n",
    "    for subdf in groupby(df, column)\n",
    "        row = Array{Int8,1}()\n",
    "        for value in all_possible_values_list\n",
    "            push!(row, value in subdf[column]? 1 : 0)\n",
    "        end\n",
    "        \n",
    "        for i=1:size(subdf, 1)\n",
    "            push!(data, row)\n",
    "        end\n",
    "    end\n",
    "    \n",
    "    nrows, ncols = size(data)[1], size(data[1])[1]\n",
    "    data = reshape(vcat(data...), (ncols, nrows))\n",
    "    for (i, value) in enumerate(all_possible_values_list)\n",
    "        df[symbol(string(column, \"_\", value))] = vcat(data[i, :]...)\n",
    "    end\n",
    "    \n",
    "    return df\n",
    "end"
   ]
  },
  {
   "cell_type": "markdown",
   "metadata": {},
   "source": [
    "### Remove Unknown Products without Motivation to Return"
   ]
  },
  {
   "cell_type": "code",
   "execution_count": 15,
   "metadata": {
    "collapsed": false
   },
   "outputs": [],
   "source": [
    "train = train[train[:ScanCount] .!= -1, :]\n",
    "test = test[test[:ScanCount] .!= -1, :]\n",
    "full = full[full[:ScanCount] .!= -1, :];"
   ]
  },
  {
   "cell_type": "markdown",
   "metadata": {},
   "source": [
    "### Selected Features"
   ]
  },
  {
   "cell_type": "code",
   "execution_count": 19,
   "metadata": {
    "collapsed": true
   },
   "outputs": [],
   "source": [
    "selected_features = [:VisitNumber, :Weekday, :DepartmentDescription, :FinelineNumber, :TripType];"
   ]
  },
  {
   "cell_type": "code",
   "execution_count": 21,
   "metadata": {
    "collapsed": false
   },
   "outputs": [],
   "source": [
    "train = train[:, selected_features]\n",
    "test = test[:, setdiff(selected_features, [:TripType])]\n",
    "full = full[:, setdiff(selected_features, [:TripType])];"
   ]
  },
  {
   "cell_type": "markdown",
   "metadata": {},
   "source": [
    "### Add UPC as Relational Feature"
   ]
  },
  {
   "cell_type": "code",
   "execution_count": null,
   "metadata": {
    "collapsed": true
   },
   "outputs": [],
   "source": [
    "add_relationship_feature!(train, :Upc, all_upc)\n",
    "add_relationship_feature!(test, :Upc, all_upc)\n",
    "add_relationship_feature!(full, :Upc, all_upc);"
   ]
  },
  {
   "cell_type": "markdown",
   "metadata": {},
   "source": [
    "### Add FinelineNumber as Relational Feature"
   ]
  },
  {
   "cell_type": "code",
   "execution_count": 31,
   "metadata": {
    "collapsed": false
   },
   "outputs": [],
   "source": [
    "add_relationship_feature!(train, :FinelineNumber, all_fineline_number)\n",
    "add_relationship_feature!(test, :FinelineNumber, all_fineline_number)\n",
    "add_relationship_feature!(full, :FinelineNumber, all_fineline_number);"
   ]
  },
  {
   "cell_type": "markdown",
   "metadata": {},
   "source": [
    "### Add Department as Relational Feature"
   ]
  },
  {
   "cell_type": "code",
   "execution_count": 32,
   "metadata": {
    "collapsed": true
   },
   "outputs": [],
   "source": [
    "add_relationship_feature!(train, :DepartmentDescription, all_departments)\n",
    "add_relationship_feature!(test, :DepartmentDescription, all_departments)\n",
    "add_relationship_feature!(full, :DepartmentDescription, all_departments);"
   ]
  },
  {
   "cell_type": "markdown",
   "metadata": {},
   "source": [
    "### Group Data by VisitNumber"
   ]
  },
  {
   "cell_type": "code",
   "execution_count": 43,
   "metadata": {
    "collapsed": false
   },
   "outputs": [
    {
     "data": {
      "text/plain": [
       "group_by_visit_number (generic function with 1 method)"
      ]
     },
     "execution_count": 43,
     "metadata": {},
     "output_type": "execute_result"
    }
   ],
   "source": [
    "function group_by_visit_number(df)\n",
    "    \n",
    "    cols_to_apply = setdiff(names(df), selected_features)\n",
    "    instances = Array{Float32}[]\n",
    "    \n",
    "    for subdf in groupby(df, :VisitNumber)    \n",
    "        instance = subdf[1, :]\n",
    "        summarized_values = vcat(colwise(sum, subdf[:, cols_to_apply])...)\n",
    "        instance[:, cols_to_apply] = summarized_values\n",
    "        push!(instances, Array{Float32}(instance))\n",
    "    end\n",
    "            \n",
    "    nrows, ncols = size(instances, 1), size(instances[1], 1)\n",
    "    instances = reshape(vcat(instances'...), (nrows, ncols))\n",
    "    instances_df = convert(DataFrame, instances)\n",
    "    names!(instances_df, names(df))\n",
    "           \n",
    "    return instances_df\n",
    "end"
   ]
  },
  {
   "cell_type": "code",
   "execution_count": 41,
   "metadata": {
    "collapsed": false
   },
   "outputs": [
    {
     "ename": "LoadError",
     "evalue": "LoadError: UndefVarError: group_by_visit_number not defined\nwhile loading In[41], in expression starting on line 1",
     "output_type": "error",
     "traceback": [
      "LoadError: UndefVarError: group_by_visit_number not defined\nwhile loading In[41], in expression starting on line 1",
      ""
     ]
    }
   ],
   "source": [
    "train_aggregated = group_by_visit_number(train)"
   ]
  },
  {
   "cell_type": "markdown",
   "metadata": {},
   "source": [
    "### Delete Outdated Features"
   ]
  },
  {
   "cell_type": "code",
   "execution_count": 38,
   "metadata": {
    "collapsed": false
   },
   "outputs": [],
   "source": [
    ":Upc in names(train) && delete!(train, :Upc)\n",
    ":FinelineNumber in names(train) && delete!(train, :FinelineNumber)\n",
    ":DepartmentDescription in names(train) && delete!(train, :DepartmentDescription)\n",
    "\n",
    ":Upc in names(test) && delete!(test, :Upc)\n",
    ":FinelineNumber in names(test) && delete!(test, :FinelineNumber)\n",
    ":DepartmentDescription in names(test) && delete!(test, :DepartmentDescription)\n",
    "\n",
    ":Upc in names(full) && delete!(full, :Upc)\n",
    ":FinelineNumber in names(full) && delete!(full, :FinelineNumber)\n",
    ":DepartmentDescription in names(full) && delete!(full, :DepartmentDescription);"
   ]
  },
  {
   "cell_type": "markdown",
   "metadata": {},
   "source": [
    "### Store Feature Engineering"
   ]
  },
  {
   "cell_type": "code",
   "execution_count": null,
   "metadata": {
    "collapsed": false
   },
   "outputs": [],
   "source": [
    "writetable(\"data/train_featured_fn_x_dept_rship.tsv\", train, separator='\\t')\n",
    "writetable(\"data/test_featured_fn_x_dept_rship.tsv\", test, separator='\\t')\n",
    "writetable(\"data/full_featured_fn_x_dept_rship.tsv\", full, separator='\\t');"
   ]
  }
 ],
 "metadata": {
  "kernelspec": {
   "display_name": "Julia 0.4.1-pre",
   "language": "julia",
   "name": "julia-0.4"
  },
  "language_info": {
   "file_extension": ".jl",
   "mimetype": "application/julia",
   "name": "julia",
   "version": "0.4.1"
  }
 },
 "nbformat": 4,
 "nbformat_minor": 0
}
