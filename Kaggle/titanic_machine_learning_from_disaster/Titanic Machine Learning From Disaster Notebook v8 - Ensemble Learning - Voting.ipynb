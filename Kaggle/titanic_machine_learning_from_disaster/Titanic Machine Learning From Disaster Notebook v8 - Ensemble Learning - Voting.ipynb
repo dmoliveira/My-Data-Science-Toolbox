{
 "cells": [
  {
   "cell_type": "markdown",
   "metadata": {},
   "source": [
    "## <a name=\"abstract\">Titanic Machine Learning From Disaster</a>"
   ]
  },
  {
   "cell_type": "markdown",
   "metadata": {},
   "source": [
    "Abstract The sinking of the RMS Titanic is one of the most infamous shipwrecks in history. On April 15, 1912, during her maiden voyage, the Titanic sank after colliding with an iceberg, killing 1502 out of 2224 passengers and crew. This sensational tragedy shocked the international community and led to better safety regulations for ships.\n",
    "One of the reasons that the shipwreck led to such loss of life was that there were not enough lifeboats for the passengers and crew. Although there was some element of luck involved in surviving the sinking, some groups of people were more likely to survive than others, such as women, children, and the upper-class.\n",
    "In this challenge, we ask you to complete the analysis of what sorts of people were likely to survive. In particular, we ask you to apply the tools of machine learning to predict which passengers survived the tragedy."
   ]
  },
  {
   "cell_type": "code",
   "execution_count": 142,
   "metadata": {
    "collapsed": false
   },
   "outputs": [],
   "source": [
    "using DataFrames\n",
    "using DecisionTree\n",
    "using Iterators\n",
    "using GLM\n",
    "using Distances\n",
    "using MLBase\n",
    "using Gadfly\n",
    "\n",
    "# Scikit\n",
    "using PyCall\n",
    "@pyimport sklearn.neighbors.nearest_centroid as nearest_centroid\n",
    "@pyimport numpy as np\n",
    "@pyimport sklearn.linear_model as sklm\n",
    "@pyimport sklearn.svm as svm\n",
    "@pyimport sklearn.naive_bayes as naive_bayes\n",
    "@pyimport sklearn.ensemble as ensemble"
   ]
  },
  {
   "cell_type": "markdown",
   "metadata": {},
   "source": [
    "### Load Preprocessed Data"
   ]
  },
  {
   "cell_type": "code",
   "execution_count": 182,
   "metadata": {
    "collapsed": true
   },
   "outputs": [],
   "source": [
    "features = [:Pclass, :Sex, :Age, :SibSp, :Parch, :Fare, :Embarked,\n",
    "            :Title, :FamilySize, :IsMother, :IsChild, :IsSmallFamily,\n",
    "            :CabinPrefix, :CabinNumber]\n",
    "label = :Survived;"
   ]
  },
  {
   "cell_type": "code",
   "execution_count": 195,
   "metadata": {
    "collapsed": false
   },
   "outputs": [],
   "source": [
    "train = readtable(\"./data/train_enriched.tsv\", separator='\\t')[:, [features, label]]\n",
    "test_passengers_id = readtable(\"./data/test_enriched.tsv\", separator='\\t')[:, :PassengerId]\n",
    "test = readtable(\"./data/test_enriched.tsv\", separator='\\t')[:, features];"
   ]
  },
  {
   "cell_type": "code",
   "execution_count": 254,
   "metadata": {
    "collapsed": false
   },
   "outputs": [
    {
     "data": {
      "text/plain": [
       "average_predictions (generic function with 1 method)"
      ]
     },
     "execution_count": 254,
     "metadata": {},
     "output_type": "execute_result"
    }
   ],
   "source": [
    "binarize{T <: Number}(y::Array{T,1}) = Array{Int8,1}(y .>= .5)\n",
    "binarize{T <: Integer}(y::T) = y >= .5? 1 : 0\n",
    "\n",
    "function calc_accuracy{T <: Integer}(y_real::Array{T,1}, y_pred::Array{T,1})\n",
    "    nrows = length(y_real)\n",
    "    preds_diff = map(i -> y_real[i] == binarize(y_pred[i])?1:0, vcat(1:nrows))\n",
    "    return round(sum(preds_diff)/nrows, 2)  \n",
    "end\n",
    "\n",
    "function calc_accuracy{T <: Integer}(y_real::Array{T,1}, y_preds::Array{Array{T,1},1})\n",
    "    return map(y_pred -> calc_accuracy(Array{Int8}(y_real), Array{Int8}(y_pred)), y_preds)\n",
    "end\n",
    "\n",
    "function predictions_to_matrix(predictions)\n",
    "    nrows = length(predictions[1])\n",
    "    ncols = length(predictions)\n",
    "    return reshape(vcat(predictions...), (nrows, ncols))\n",
    "end\n",
    "\n",
    "function average_predictions(predictions_matrix)\n",
    "    final_predictions = []\n",
    "    ncols = size(predictions_matrix, 2)\n",
    "    for row = 1:size(predictions_matrix, 1)\n",
    "        push!(final_predictions, sum(predictions_matrix[row, :])/ncols >= .5? 1 : 0)\n",
    "    end\n",
    "    return Array{Int8,1}(final_predictions)\n",
    "end"
   ]
  },
  {
   "cell_type": "markdown",
   "metadata": {},
   "source": [
    "### Logistic Linear Regression"
   ]
  },
  {
   "cell_type": "code",
   "execution_count": 51,
   "metadata": {
    "collapsed": false
   },
   "outputs": [],
   "source": [
    "linear_model = glm(Survived ~ Pclass + Sex + Age + Parch + Fare + \n",
    "                              Embarked + Title + FamilySize + IsMother + \n",
    "                              IsSmallFamily + CabinPrefix + CabinNumber, \n",
    "                   train, Binomial());\n",
    "linear_predictions_training = binarize(array(predict(linear_model, train)));"
   ]
  },
  {
   "cell_type": "code",
   "execution_count": 52,
   "metadata": {
    "collapsed": false
   },
   "outputs": [
    {
     "data": {
      "text/plain": [
       "0.81"
      ]
     },
     "execution_count": 52,
     "metadata": {},
     "output_type": "execute_result"
    }
   ],
   "source": [
    "calc_accuracy(Array{Int8}(train[label]), linear_predictions_training)"
   ]
  },
  {
   "cell_type": "markdown",
   "metadata": {},
   "source": [
    "### Random Forest"
   ]
  },
  {
   "cell_type": "code",
   "execution_count": 53,
   "metadata": {
    "collapsed": false
   },
   "outputs": [],
   "source": [
    "rf_model = build_forest(array(train[label]), array(train[:, features]), 5, 500)\n",
    "rf_predictions_training = apply_forest(rf_model, array(train[:, features]));"
   ]
  },
  {
   "cell_type": "code",
   "execution_count": 54,
   "metadata": {
    "collapsed": false
   },
   "outputs": [
    {
     "data": {
      "text/plain": [
       "0.94"
      ]
     },
     "execution_count": 54,
     "metadata": {},
     "output_type": "execute_result"
    }
   ],
   "source": [
    "calc_accuracy(Array{Int8}(train[label]), Array{Int8}(rf_predictions_training))"
   ]
  },
  {
   "cell_type": "markdown",
   "metadata": {},
   "source": [
    "### kNN"
   ]
  },
  {
   "cell_type": "code",
   "execution_count": 167,
   "metadata": {
    "collapsed": false
   },
   "outputs": [],
   "source": [
    "knn_model = nearest_centroid.NearestCentroid()\n",
    "knn_model[:fit](array(train[:, features]), array(train[label]))\n",
    "knn_predictions_training = knn_model[:predict](array(train[:, features]));"
   ]
  },
  {
   "cell_type": "code",
   "execution_count": 111,
   "metadata": {
    "collapsed": false
   },
   "outputs": [
    {
     "data": {
      "text/plain": [
       "0.67"
      ]
     },
     "execution_count": 111,
     "metadata": {},
     "output_type": "execute_result"
    }
   ],
   "source": [
    "calc_accuracy(Array{Int8}(train[label]), Array{Int8}(knn_predictions_training))"
   ]
  },
  {
   "cell_type": "markdown",
   "metadata": {},
   "source": [
    "### Lasso"
   ]
  },
  {
   "cell_type": "code",
   "execution_count": 168,
   "metadata": {
    "collapsed": false
   },
   "outputs": [],
   "source": [
    "lasso_model = sklm.Lasso(alpha = 0.1)\n",
    "lasso_model[:fit](array(train[:, features]), array(train[label]))\n",
    "lasso_predictions_training = binarize(lasso_model[:predict](array(train[:, features])));"
   ]
  },
  {
   "cell_type": "code",
   "execution_count": 123,
   "metadata": {
    "collapsed": false
   },
   "outputs": [
    {
     "data": {
      "text/plain": [
       "0.7"
      ]
     },
     "execution_count": 123,
     "metadata": {},
     "output_type": "execute_result"
    }
   ],
   "source": [
    "calc_accuracy(Array{Int8}(train[label]), Array{Int8}(lasso_predictions_training))"
   ]
  },
  {
   "cell_type": "markdown",
   "metadata": {},
   "source": [
    "### Support Vector Machine"
   ]
  },
  {
   "cell_type": "code",
   "execution_count": 176,
   "metadata": {
    "collapsed": false
   },
   "outputs": [],
   "source": [
    "svm_model = svm.SVC()\n",
    "svm_model[:fit](array(train[:, features]), array(train[label])) \n",
    "svm_predictions_training = binarize(svm_model[:predict](array(train[:, features])));"
   ]
  },
  {
   "cell_type": "code",
   "execution_count": 177,
   "metadata": {
    "collapsed": false
   },
   "outputs": [
    {
     "data": {
      "text/plain": [
       "0.93"
      ]
     },
     "execution_count": 177,
     "metadata": {},
     "output_type": "execute_result"
    }
   ],
   "source": [
    "calc_accuracy(Array{Int8}(train[label]), Array{Int8}(svm_predictions_training))"
   ]
  },
  {
   "cell_type": "markdown",
   "metadata": {},
   "source": [
    "### Stocastic Gradient Descent"
   ]
  },
  {
   "cell_type": "code",
   "execution_count": 174,
   "metadata": {
    "collapsed": true
   },
   "outputs": [],
   "source": [
    "sgd_model = sklm.SGDClassifier(loss=\"hinge\", penalty=\"l2\")\n",
    "sgd_model[:fit](array(train[:, features]), array(train[label]))\n",
    "sgd_predictions_training = binarize(sgd_model[:predict](array(train[:, features])));"
   ]
  },
  {
   "cell_type": "code",
   "execution_count": 175,
   "metadata": {
    "collapsed": false
   },
   "outputs": [
    {
     "data": {
      "text/plain": [
       "0.74"
      ]
     },
     "execution_count": 175,
     "metadata": {},
     "output_type": "execute_result"
    }
   ],
   "source": [
    "calc_accuracy(Array{Int8}(train[label]), Array{Int8}(sgd_predictions_training))"
   ]
  },
  {
   "cell_type": "markdown",
   "metadata": {},
   "source": [
    "### Gaussian Naive Bayes"
   ]
  },
  {
   "cell_type": "code",
   "execution_count": 172,
   "metadata": {
    "collapsed": false
   },
   "outputs": [],
   "source": [
    "naive_bayes_model = naive_bayes.GaussianNB()\n",
    "naive_bayes_model[:fit](array(train[:, features]), array(train[label]))\n",
    "naive_bayes_predictions_training = binarize(naive_bayes_model[:predict](array(train[:, features])));"
   ]
  },
  {
   "cell_type": "code",
   "execution_count": 173,
   "metadata": {
    "collapsed": false
   },
   "outputs": [
    {
     "data": {
      "text/plain": [
       "0.78"
      ]
     },
     "execution_count": 173,
     "metadata": {},
     "output_type": "execute_result"
    }
   ],
   "source": [
    "calc_accuracy(Array{Int8}(train[label]), Array{Int8}(naive_bayes_predictions_training))"
   ]
  },
  {
   "cell_type": "markdown",
   "metadata": {},
   "source": [
    "### Extremely Randomized Trees"
   ]
  },
  {
   "cell_type": "code",
   "execution_count": 178,
   "metadata": {
    "collapsed": false
   },
   "outputs": [],
   "source": [
    "extremely_rand_tress_models = ensemble.ExtraTreesClassifier(n_estimators=10, min_samples_split=1, random_state=0)\n",
    "extremely_rand_tress_models[:fit](array(train[:, features]), array(train[label]))\n",
    "extremely_rand_trees_predictions_training = binarize(extremely_rand_tress_models[:predict](array(train[:, features])));"
   ]
  },
  {
   "cell_type": "code",
   "execution_count": 179,
   "metadata": {
    "collapsed": false
   },
   "outputs": [
    {
     "data": {
      "text/plain": [
       "0.98"
      ]
     },
     "execution_count": 179,
     "metadata": {},
     "output_type": "execute_result"
    }
   ],
   "source": [
    "calc_accuracy(Array{Int8}(train[label]), Array{Int8}(extremely_rand_trees_predictions_training))"
   ]
  },
  {
   "cell_type": "markdown",
   "metadata": {},
   "source": [
    "###  Combine Models Training Data"
   ]
  },
  {
   "cell_type": "code",
   "execution_count": 166,
   "metadata": {
    "collapsed": false
   },
   "outputs": [
    {
     "data": {
      "text/plain": [
       "0.87"
      ]
     },
     "execution_count": 166,
     "metadata": {},
     "output_type": "execute_result"
    }
   ],
   "source": [
    "mtx = predictions_to_matrix(Array[linear_predictions_training, rf_predictions_training, \n",
    "                                  knn_predictions_training, lasso_predictions_training,\n",
    "                                  svm_predictions_training, sgd_predictions_training,\n",
    "                                  naive_bayes_predictions_training, \n",
    "                                  extremely_rand_trees_bayes_predictions_training])\n",
    "combined_predictions_training = average_predictions(mtx)\n",
    "calc_accuracy(Array{Int8}(train[label]), Array{Int8}(combined_predictions_training))"
   ]
  },
  {
   "cell_type": "markdown",
   "metadata": {},
   "source": [
    "### Make Final Prediction"
   ]
  },
  {
   "cell_type": "markdown",
   "metadata": {},
   "source": [
    "Before choose classifiers, lets remember the previous score on training set: \n",
    "\n",
    "#### Solo Classifier\n",
    "1. LR: 0.81 (Kaggle: 0.76077)\n",
    "2. RF: 0.94 (Kaggle: 0.78469)\n",
    "3. kNN: 0.67 (Kaggle: 0.65072)\n",
    "4. Lasso: 0.70  (Kaggle: 0.66507)\n",
    "5. SVM: 0.93 (Kaggle: 0.66507)\n",
    "6. SGD: 0.74  (Kaggle: 0.68900)\n",
    "7. Naive Bayes: 0.78 (Kaggle: 0.75120)\n",
    "8. Extremely Randomized Trees: 0.98 (Kaggle: 0.74163)\n",
    "\n",
    "#### Combined Classifier with low correlation\n",
    "RF + SVM + Extremely Randomized Trees: (Kaggle: 0.76077)  \n",
    "LR + RF Cor($P_1,P_2$: 0.69, $F,P_1$: 0.88 $F,P_2$: 0.84) (Kaggle: 0.77033)  \n",
    "LR + Naive Bayes Cor($P_1,P_2$: 0.79, $F,P_1$: 0.85 $F,P_2$: 0.94) (Kaggle: )  \n",
    "RF + Naive Bayes Cor($P_1,P_2$: 0.62, $F,P_1$: 0.77 $F,P_2$: 0.89) (Kaggle: 0.76077)  \n",
    "LR + RF + Naive Bayes Cor($F,P_1$: 0.93, $F,P_2$: 0.76 $F,P_7$: 0.85) (Kaggle: )  \n",
    "LR + RF + Lasso Cor($F,P_1$: 0.80, $F,P_2$: 0.89 $F,P_4$: 0.42) (Kaggle: )"
   ]
  },
  {
   "cell_type": "code",
   "execution_count": 330,
   "metadata": {
    "collapsed": false
   },
   "outputs": [
    {
     "name": "stdout",
     "output_type": "stream",
     "text": [
      "([:p1,:p2,:p4],0.89)\n",
      "([:p1,:p2,:p5],0.88)\n",
      "([:p1,:p2,:p6],0.86)\n",
      "([:p2,:p3,:p8],0.93)\n",
      "([:p1,:p2,:p3,:p8],0.91)\n",
      "([:p2,:p4,:p8],0.93)\n",
      "([:p1,:p2,:p4,:p8],0.93)\n",
      "([:p2,:p5,:p8],0.93)\n",
      "([:p1,:p2,:p5,:p8],0.86)\n",
      "([:p1,:p2,:p3,:p5,:p8],0.9)\n",
      "([:p1,:p2,:p4,:p5,:p8],0.91)\n",
      "([:p2,:p6,:p8],0.94)\n",
      "([:p1,:p2,:p6,:p8],0.87)\n",
      "([:p1,:p2,:p3,:p6,:p8],0.87)\n",
      "([:p1,:p2,:p4,:p6,:p8],0.89)\n",
      "([:p1,:p2,:p5,:p6,:p8],0.87)\n",
      "([:p2,:p4,:p7,:p8],0.87)\n",
      "([:p1,:p2,:p4,:p7,:p8],0.87)\n",
      "([:p1,:p2,:p5,:p7,:p8],0.86)\n",
      "([:p1,:p2,:p6,:p7,:p8],0.86)\n"
     ]
    }
   ],
   "source": [
    "labels = collect(subsets([:p1, :p2, :p3, :p4, :p5, :p6, :p7, :p8]))[2:end]\n",
    "outputs = collect(subsets(Array[p1,p2,p3,p4,p5,p6,p7,p8]))[2:end]\n",
    "preds = Array[average_predictions(predictions_to_matrix(out)) for out in outputs]\n",
    "comb = map(i -> (labels[i], round(cor(preds[i], p2), 2)), vcat(1:length(labels)))\n",
    "for c in comb\n",
    "    if 0.85 < last(c) < .95 && length(first(c)) > 2\n",
    "        println(c)\n",
    "    end\n",
    "end"
   ]
  },
  {
   "cell_type": "code",
   "execution_count": 340,
   "metadata": {
    "collapsed": false
   },
   "outputs": [],
   "source": [
    "final_predictions = average_predictions(predictions_to_matrix(Array[p1, p2, p4]))\n",
    "round(cor(final_predictions, p4),2)\n",
    "test_predictions_df = DataFrame(PassengerId=test_passengers_id, Survived=final_predictions)\n",
    "writetable(\"./data/prediction_v8_ensemble_learning_lr+rf+lasso.csv\", test_predictions_df)"
   ]
  },
  {
   "cell_type": "code",
   "execution_count": 187,
   "metadata": {
    "collapsed": false
   },
   "outputs": [],
   "source": [
    "p1 = binarize(array(predict(linear_model, test))) # Logistic Regression Model\n",
    "p2 = apply_forest(rf_model, array(test)) # Random Forest\n",
    "p3 = knn_model[:predict](array(test)) # kNN\n",
    "p4 = binarize(lasso_model[:predict](array(test))) # Lasso Model\n",
    "p5 = binarize(svm_model[:predict](array(test))) # SVM\n",
    "p6 = binarize(sgd_model[:predict](array(test))) # SGD\n",
    "p7 = binarize(naive_bayes_model[:predict](array(test))) # Naive Bayes\n",
    "p8 = binarize(extremely_rand_tress_models[:predict](array(test))) # Extremely Randomized Trees\n",
    "final_predictions = predictions_to_matrix(Array[p1, p2, p3, p4, p5, p6, p7, p8])\n",
    "final_predictions = average_predictions(final_predictions);"
   ]
  },
  {
   "cell_type": "code",
   "execution_count": 196,
   "metadata": {
    "collapsed": false
   },
   "outputs": [],
   "source": [
    "# RF + SVM + Extremely Randomized Trees - Kaggle Results: 0.76077\n",
    "final_predictions = average_predictions(predictions_to_matrix(Array[p2, p5, p8]))\n",
    "test_predictions_df = DataFrame(PassengerId=test_passengers_id, Survived=final_predictions)\n",
    "writetable(\"./data/prediction_v8_ensemble_learning_rf+svm+extrees.csv\", test_predictions_df)"
   ]
  },
  {
   "cell_type": "code",
   "execution_count": 253,
   "metadata": {
    "collapsed": false
   },
   "outputs": [],
   "source": [
    "# LR + RF + Naive Bayes\n",
    "final_predictions = average_predictions(predictions_to_matrix(Array[p1, p2, p7]))\n",
    "test_predictions_df = DataFrame(PassengerId=test_passengers_id, Survived=final_predictions)\n",
    "writetable(\"./data/prediction_v8_ensemble_learning_lr+rf+naive_bayes.csv\", test_predictions_df)"
   ]
  },
  {
   "cell_type": "code",
   "execution_count": 202,
   "metadata": {
    "collapsed": true
   },
   "outputs": [],
   "source": [
    "# Logistic Regression\n",
    "test_predictions_df = DataFrame(PassengerId=test_passengers_id, Survived=p1)\n",
    "writetable(\"./data/prediction_v8_logistic_regression.csv\", test_predictions_df)\n",
    "\n",
    "# Random Forest\n",
    "test_predictions_df = DataFrame(PassengerId=test_passengers_id, Survived=p2)\n",
    "writetable(\"./data/prediction_v8_random_forest.csv\", test_predictions_df)\n",
    "\n",
    "# kNN\n",
    "test_predictions_df = DataFrame(PassengerId=test_passengers_id, Survived=p3)\n",
    "writetable(\"./data/prediction_v8_knn.csv\", test_predictions_df)\n",
    "\n",
    "# Lasso\n",
    "test_predictions_df = DataFrame(PassengerId=test_passengers_id, Survived=p4)\n",
    "writetable(\"./data/prediction_v8_lasso.csv\", test_predictions_df)\n",
    "\n",
    "# SVM\n",
    "test_predictions_df = DataFrame(PassengerId=test_passengers_id, Survived=p5)\n",
    "writetable(\"./data/prediction_v8_svm.csv\", test_predictions_df)\n",
    "\n",
    "# SGD\n",
    "test_predictions_df = DataFrame(PassengerId=test_passengers_id, Survived=p6)\n",
    "writetable(\"./data/prediction_v8_sgd.csv\", test_predictions_df)\n",
    "\n",
    "# Naive Bayes\n",
    "test_predictions_df = DataFrame(PassengerId=test_passengers_id, Survived=p7)\n",
    "writetable(\"./data/prediction_v8_naive_bayes.csv\", test_predictions_df)\n",
    "\n",
    "# Extremely Randomized Trees\n",
    "test_predictions_df = DataFrame(PassengerId=test_passengers_id, Survived=p8)\n",
    "writetable(\"./data/prediction_v8_extremely_randomized_trees.csv\", test_predictions_df)"
   ]
  }
 ],
 "metadata": {
  "kernelspec": {
   "display_name": "Julia 0.4.1-pre",
   "language": "julia",
   "name": "julia-0.4"
  },
  "language_info": {
   "file_extension": ".jl",
   "mimetype": "application/julia",
   "name": "julia",
   "version": "0.4.1"
  }
 },
 "nbformat": 4,
 "nbformat_minor": 0
}
