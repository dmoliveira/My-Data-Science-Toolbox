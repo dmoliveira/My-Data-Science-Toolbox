{
 "cells": [
  {
   "cell_type": "markdown",
   "metadata": {},
   "source": [
    "# <img src=\"https://kaggle2.blob.core.windows.net/competitions/kaggle/4594/logos/front_page.png\"/><span style=\"color:blue;text-align:center;\">My Leadboard</span>"
   ]
  },
  {
   "cell_type": "markdown",
   "metadata": {},
   "source": [
    "Rossmann operates over 3,000 drug stores in 7 European countries. Currently, \n",
    "Rossmann store managers are tasked with predicting their daily sales for up to six weeks in advance. Store sales are influenced by many factors, including promotions, competition, school and state holidays, seasonality, and locality. With thousands of individual managers predicting sales based on their unique circumstances, the accuracy of results can be quite varied. Reliable sales forecasts enable store managers to create effective staff schedules that increase productivity and motivation. By helping Rossmann create a robust prediction model, you will help store managers stay focused on what’s most important to them: their customers and their teams! \n",
    "<img src=\"https://kaggle2.blob.core.windows.net/competitions/kaggle/4594/media/rossmann_banner2.png\"/>"
   ]
  },
  {
   "cell_type": "markdown",
   "metadata": {},
   "source": [
    "# Updated Leadboard"
   ]
  },
  {
   "cell_type": "markdown",
   "metadata": {},
   "source": [
    " Sub #| Method | Train % | Param. | Time |Eval | Kaggle Eval \n",
    " :---:|:------:|:-------:|:------:|:----:|:---:|:-----------:\n",
    " 1 | Linear Regression | 100% | All features not missing | - | - | 0.42591\n",
    " 2 | Linear Regression | CV 5 | :Promo, :StateHolidayEnc, :SchoolHoliday, :StoreTypeEnc, :AssortmentEnc, :Promo2, :PromoIntervalEnc | - | 1.7604802118393e8 | 0.42446\n",
    " 3 | Initial Random Forest | 100% | All features, 5 Features, 100 Trees | - | - | 0.30076\n",
    " 4 | Initial XGBoost | 100% | All features | - | 2.1655121558566544e7 | 0.42537\n",
    " 5 | XGBoost | 100% | All features, num rounds 300, ETA .3, Max Depth 6, Subsample .5, RegLinear | 466s | 1.7664821959061403e7 | <span style=\"color:blue\">0.15229</span>\n"
   ]
  }
 ],
 "metadata": {
  "kernelspec": {
   "display_name": "Julia 0.4.1-pre",
   "language": "julia",
   "name": "julia-0.4"
  },
  "language_info": {
   "file_extension": ".jl",
   "mimetype": "application/julia",
   "name": "julia",
   "version": "0.4.1"
  }
 },
 "nbformat": 4,
 "nbformat_minor": 0
}
