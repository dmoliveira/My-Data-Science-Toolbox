{
 "cells": [
  {
   "cell_type": "markdown",
   "metadata": {},
   "source": [
    "# <img src=\"https://kaggle2.blob.core.windows.net/competitions/kaggle/4594/logos/front_page.png\"/><span style=\"color:blue;text-align:center;\">v1 Simple GLM</span>"
   ]
  },
  {
   "cell_type": "markdown",
   "metadata": {},
   "source": [
    "Rossmann operates over 3,000 drug stores in 7 European countries. Currently, \n",
    "Rossmann store managers are tasked with predicting their daily sales for up to six weeks in advance. Store sales are influenced by many factors, including promotions, competition, school and state holidays, seasonality, and locality. With thousands of individual managers predicting sales based on their unique circumstances, the accuracy of results can be quite varied. Reliable sales forecasts enable store managers to create effective staff schedules that increase productivity and motivation. By helping Rossmann create a robust prediction model, you will help store managers stay focused on what’s most important to them: their customers and their teams! \n",
    "<img src=\"https://kaggle2.blob.core.windows.net/competitions/kaggle/4594/media/rossmann_banner2.png\"/>"
   ]
  },
  {
   "cell_type": "code",
   "execution_count": 1,
   "metadata": {
    "collapsed": false
   },
   "outputs": [
    {
     "name": "stderr",
     "output_type": "stream",
     "text": [
      "WARNING: Base.String is deprecated, use AbstractString instead.\n",
      "  likely near /Users/diego/.julia/v0.4/MLBase/src/modeltune.jl:5\n",
      "WARNING: Base.String is deprecated, use AbstractString instead.\n",
      "  likely near /Users/diego/.julia/v0.4/MLBase/src/modeltune.jl:5\n",
      "WARNING: Base.String is deprecated, use AbstractString instead.\n",
      "  likely near /Users/diego/.julia/v0.4/MLBase/src/modeltune.jl:5\n",
      "WARNING: Base.FloatingPoint is deprecated, use AbstractFloat instead.\n",
      "  likely near /Users/diego/.julia/v0.4/MLBase/src/deprecated/datapre.jl:104\n",
      "WARNING: Base.FloatingPoint is deprecated, use AbstractFloat instead.\n",
      "  likely near /Users/diego/.julia/v0.4/MLBase/src/deprecated/datapre.jl:105\n",
      "WARNING: Base.FloatingPoint is deprecated, use AbstractFloat instead.\n",
      "  likely near /Users/diego/.julia/v0.4/MLBase/src/deprecated/datapre.jl:163\n",
      "WARNING: Base.FloatingPoint is deprecated, use AbstractFloat instead.\n",
      "  likely near /Users/diego/.julia/v0.4/MLBase/src/deprecated/datapre.jl:163\n",
      "WARNING: Base.FloatingPoint is deprecated, use AbstractFloat instead.\n",
      "  likely near /Users/diego/.julia/v0.4/MLBase/src/deprecated/datapre.jl:163\n"
     ]
    }
   ],
   "source": [
    "using DataFrames\n",
    "using MLBase\n",
    "using GLM\n",
    "using Gadfly\n",
    "using Iterators"
   ]
  },
  {
   "cell_type": "markdown",
   "metadata": {},
   "source": [
    "## Load Data"
   ]
  },
  {
   "cell_type": "code",
   "execution_count": 2,
   "metadata": {
    "collapsed": false
   },
   "outputs": [],
   "source": [
    "train = readtable(\"data/train.csv\")\n",
    "test = readtable(\"data/test.csv\")\n",
    "store = readtable(\"data/store.csv\")\n",
    "train = join(train, store, on=:Store)\n",
    "test = join(test, store, on=:Store);"
   ]
  },
  {
   "cell_type": "markdown",
   "metadata": {},
   "source": [
    "## Sample Data Visualization"
   ]
  },
  {
   "cell_type": "markdown",
   "metadata": {},
   "source": [
    "#### Train Data"
   ]
  },
  {
   "cell_type": "code",
   "execution_count": 39,
   "metadata": {
    "collapsed": false
   },
   "outputs": [
    {
     "name": "stdout",
     "output_type": "stream",
     "text": [
      "1017209x22 DataFrames.DataFrame\n",
      "| Col # | Name                      | Eltype     | Missing |\n",
      "|-------|---------------------------|------------|---------|\n",
      "| 1     | Store                     | Int64      | 0       |\n",
      "| 2     | DayOfWeek                 | Int64      | 0       |\n",
      "| 3     | Date                      | UTF8String | 0       |\n",
      "| 4     | Sales                     | Int64      | 0       |\n",
      "| 5     | Customers                 | Int64      | 0       |\n",
      "| 6     | Open                      | Int64      | 0       |\n",
      "| 7     | Promo                     | Int64      | 0       |\n",
      "| 8     | StateHoliday              | UTF8String | 0       |\n",
      "| 9     | SchoolHoliday             | Int64      | 0       |\n",
      "| 10    | StoreType                 | UTF8String | 0       |\n",
      "| 11    | Assortment                | UTF8String | 0       |\n",
      "| 12    | CompetitionDistance       | Int64      | 2642    |\n",
      "| 13    | CompetitionOpenSinceMonth | Int64      | 323348  |\n",
      "| 14    | CompetitionOpenSinceYear  | Int64      | 323348  |\n",
      "| 15    | Promo2                    | Int64      | 0       |\n",
      "| 16    | Promo2SinceWeek           | Int64      | 508031  |\n",
      "| 17    | Promo2SinceYear           | Int64      | 508031  |\n",
      "| 18    | PromoInterval             | UTF8String | 0       |\n",
      "| 19    | StateHolidayEnc           | Int64      | 0       |\n",
      "| 20    | StoreTypeEnc              | Int64      | 0       |\n",
      "| 21    | AssortmentEnc             | Int64      | 0       |\n",
      "| 22    | PromoIntervalEnc          | Int64      | 0       |"
     ]
    }
   ],
   "source": [
    "showcols(train)"
   ]
  },
  {
   "cell_type": "markdown",
   "metadata": {},
   "source": [
    "#### Test Data"
   ]
  },
  {
   "cell_type": "code",
   "execution_count": 18,
   "metadata": {
    "collapsed": false
   },
   "outputs": [
    {
     "name": "stdout",
     "output_type": "stream",
     "text": [
      "41088x21 DataFrames.DataFrame\n",
      "| Col # | Name                      | Eltype     | Missing |\n",
      "|-------|---------------------------|------------|---------|\n",
      "| 1     | Id                        | Int64      | 0       |\n",
      "| 2     | Store                     | Int64      | 0       |\n",
      "| 3     | DayOfWeek                 | Int64      | 0       |\n",
      "| 4     | Date                      | UTF8String | 0       |\n",
      "| 5     | Open                      | Int64      | 0       |\n",
      "| 6     | Promo                     | Int64      | 0       |\n",
      "| 7     | StateHoliday              | UTF8String | 0       |\n",
      "| 8     | SchoolHoliday             | Int64      | 0       |\n",
      "| 9     | StoreType                 | UTF8String | 0       |\n",
      "| 10    | Assortment                | UTF8String | 0       |\n",
      "| 11    | CompetitionDistance       | Int64      | 96      |\n",
      "| 12    | CompetitionOpenSinceMonth | Int64      | 15216   |\n",
      "| 13    | CompetitionOpenSinceYear  | Int64      | 15216   |\n",
      "| 14    | Promo2                    | Int64      | 0       |\n",
      "| 15    | Promo2SinceWeek           | Int64      | 17232   |\n",
      "| 16    | Promo2SinceYear           | Int64      | 17232   |\n",
      "| 17    | PromoInterval             | UTF8String | 0       |\n",
      "| 18    | StateHolidayEnc           | Int64      | 0       |\n",
      "| 19    | StoreTypeEnc              | Int64      | 0       |\n",
      "| 20    | AssortmentEnc             | Int64      | 0       |\n",
      "| 21    | PromoIntervalEnc          | Int64      | 0       |"
     ]
    }
   ],
   "source": [
    "showcols(test)"
   ]
  },
  {
   "cell_type": "markdown",
   "metadata": {},
   "source": [
    "## Initial Preprocessing"
   ]
  },
  {
   "cell_type": "markdown",
   "metadata": {},
   "source": [
    "### Select Initial Features and Label"
   ]
  },
  {
   "cell_type": "code",
   "execution_count": 24,
   "metadata": {
    "collapsed": false
   },
   "outputs": [],
   "source": [
    "features = [:DayOfWeek, :Open, :Promo, :StateHolidayEnc, :SchoolHoliday, \n",
    "            :StoreTypeEnc, :AssortmentEnc, :Promo2, :PromoIntervalEnc]\n",
    "label = :Sales;"
   ]
  },
  {
   "cell_type": "markdown",
   "metadata": {},
   "source": [
    "### Encode Categorical Fields"
   ]
  },
  {
   "cell_type": "code",
   "execution_count": 4,
   "metadata": {
    "collapsed": false
   },
   "outputs": [],
   "source": [
    "label_state_holiday = labelmap(vcat(train[:StateHoliday], test[:StateHoliday]))\n",
    "label_store_type = labelmap(vcat(train[:StoreType], test[:StoreType]))\n",
    "label_assortment = labelmap(vcat(train[:Assortment], test[:Assortment]))\n",
    "label_promo_interval = labelmap(vcat(train[:PromoInterval], test[:PromoInterval]));"
   ]
  },
  {
   "cell_type": "code",
   "execution_count": 5,
   "metadata": {
    "collapsed": true
   },
   "outputs": [],
   "source": [
    "train[:StateHolidayEnc] = labelencode(label_state_holiday, train[:StateHoliday])\n",
    "train[:StoreTypeEnc] = labelencode(label_store_type, train[:StoreType])\n",
    "train[:AssortmentEnc] = labelencode(label_assortment, train[:Assortment])\n",
    "train[:PromoIntervalEnc] = labelencode(label_promo_interval, train[:PromoInterval])\n",
    "\n",
    "test[:StateHolidayEnc] = labelencode(label_state_holiday, test[:StateHoliday])\n",
    "test[:StoreTypeEnc] = labelencode(label_store_type, test[:StoreType])\n",
    "test[:AssortmentEnc] = labelencode(label_assortment, test[:Assortment])\n",
    "test[:PromoIntervalEnc] = labelencode(label_promo_interval, test[:PromoInterval]);"
   ]
  },
  {
   "cell_type": "code",
   "execution_count": 6,
   "metadata": {
    "collapsed": false
   },
   "outputs": [],
   "source": [
    "test[isna(test[:Open]), :Open] = 1;"
   ]
  },
  {
   "cell_type": "markdown",
   "metadata": {},
   "source": [
    "## Train Data"
   ]
  },
  {
   "cell_type": "markdown",
   "metadata": {},
   "source": [
    "#### Prepare Formulas"
   ]
  },
  {
   "cell_type": "code",
   "execution_count": 27,
   "metadata": {
    "collapsed": false
   },
   "outputs": [],
   "source": [
    "formulas = map(f -> eval(parse(\"Sales ~ \" * join(f, \" + \"))), collect(subsets(features))[2:end]);"
   ]
  },
  {
   "cell_type": "markdown",
   "metadata": {},
   "source": [
    "#### Train Feasible Linear Model"
   ]
  },
  {
   "cell_type": "code",
   "execution_count": 8,
   "metadata": {
    "collapsed": false
   },
   "outputs": [
    {
     "data": {
      "text/plain": [
       "training (generic function with 1 method)"
      ]
     },
     "execution_count": 8,
     "metadata": {},
     "output_type": "execute_result"
    }
   ],
   "source": [
    "function training(df, formulas)\n",
    "    lms = []\n",
    "    accepted_formulas = []\n",
    "    for formula in formulas\n",
    "        try\n",
    "            push!(lms, glm(formula, df, Normal(), IdentityLink()))\n",
    "            push!(accepted_formulas, formula)\n",
    "        catch LoadError\n",
    "            continue\n",
    "        end\n",
    "    end\n",
    "    return accepted_formulas, lms\n",
    "end"
   ]
  },
  {
   "cell_type": "code",
   "execution_count": 28,
   "metadata": {
    "collapsed": false
   },
   "outputs": [],
   "source": [
    "accepted_formulas, lms = training(train, formulas[end-1:end]);"
   ]
  },
  {
   "cell_type": "markdown",
   "metadata": {},
   "source": [
    "## Evaluate Data"
   ]
  },
  {
   "cell_type": "code",
   "execution_count": 11,
   "metadata": {
    "collapsed": false
   },
   "outputs": [
    {
     "data": {
      "text/plain": [
       "rmspe (generic function with 1 method)"
      ]
     },
     "execution_count": 11,
     "metadata": {},
     "output_type": "execute_result"
    }
   ],
   "source": [
    "rmspe(yreal, ypred) = sqrt(sum(((yreal - ypred) ./ yreal) .^2)/length(yreal))"
   ]
  },
  {
   "cell_type": "code",
   "execution_count": 40,
   "metadata": {
    "collapsed": false
   },
   "outputs": [],
   "source": [
    "train_predicted = Array[predict(lm, train) for lm in lms];"
   ]
  },
  {
   "cell_type": "code",
   "execution_count": 41,
   "metadata": {
    "collapsed": false
   },
   "outputs": [],
   "source": [
    "rmspe_data = map(p -> rmspe(train[:Sales], p), train_predicted);"
   ]
  },
  {
   "cell_type": "markdown",
   "metadata": {},
   "source": [
    "## Predict"
   ]
  },
  {
   "cell_type": "code",
   "execution_count": 36,
   "metadata": {
    "collapsed": false
   },
   "outputs": [],
   "source": [
    "preds = predict(lms[end], test[:, features])\n",
    "preds = map(v -> v > 0? int(v) : 0, preds);"
   ]
  },
  {
   "cell_type": "markdown",
   "metadata": {},
   "source": [
    "## Create Submission"
   ]
  },
  {
   "cell_type": "code",
   "execution_count": 38,
   "metadata": {
    "collapsed": false
   },
   "outputs": [],
   "source": [
    "submission = DataFrame(Id=test[:Id], Sales=preds)\n",
    "writetable(\"data/submission_v1_all_features.csv\", submission, separator=',');"
   ]
  },
  {
   "cell_type": "markdown",
   "metadata": {},
   "source": [
    "### Kaggle Public Result"
   ]
  },
  {
   "cell_type": "markdown",
   "metadata": {},
   "source": [
    "v1 All Features - Only to set a initial score: **0.42591**  \n",
    "Better than baseline benchmark that is all Zeros: **1.0000**"
   ]
  }
 ],
 "metadata": {
  "kernelspec": {
   "display_name": "Julia 0.4.1-pre",
   "language": "julia",
   "name": "julia-0.4"
  },
  "language_info": {
   "file_extension": ".jl",
   "mimetype": "application/julia",
   "name": "julia",
   "version": "0.4.1"
  }
 },
 "nbformat": 4,
 "nbformat_minor": 0
}
