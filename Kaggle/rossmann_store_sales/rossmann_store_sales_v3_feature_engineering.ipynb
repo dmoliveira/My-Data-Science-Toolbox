{
 "cells": [
  {
   "cell_type": "markdown",
   "metadata": {},
   "source": [
    "# <img src=\"https://kaggle2.blob.core.windows.net/competitions/kaggle/4594/logos/front_page.png\"/><span style=\"color:blue;text-align:center;\">v3 Feature Engineering</span>"
   ]
  },
  {
   "cell_type": "markdown",
   "metadata": {},
   "source": [
    "Rossmann operates over 3,000 drug stores in 7 European countries. Currently, \n",
    "Rossmann store managers are tasked with predicting their daily sales for up to six weeks in advance. Store sales are influenced by many factors, including promotions, competition, school and state holidays, seasonality, and locality. With thousands of individual managers predicting sales based on their unique circumstances, the accuracy of results can be quite varied. Reliable sales forecasts enable store managers to create effective staff schedules that increase productivity and motivation. By helping Rossmann create a robust prediction model, you will help store managers stay focused on what’s most important to them: their customers and their teams! \n",
    "<img src=\"https://kaggle2.blob.core.windows.net/competitions/kaggle/4594/media/rossmann_banner2.png\"/>"
   ]
  },
  {
   "cell_type": "code",
   "execution_count": 1,
   "metadata": {
    "collapsed": false
   },
   "outputs": [
    {
     "name": "stderr",
     "output_type": "stream",
     "text": [
      "WARNING: Base.String is deprecated, use AbstractString instead.\n",
      "  likely near /Users/diego/.julia/v0.4/MLBase/src/modeltune.jl:5\n",
      "WARNING: Base.String is deprecated, use AbstractString instead.\n",
      "  likely near /Users/diego/.julia/v0.4/MLBase/src/modeltune.jl:5\n",
      "WARNING: Base.String is deprecated, use AbstractString instead.\n",
      "  likely near /Users/diego/.julia/v0.4/MLBase/src/modeltune.jl:5\n",
      "WARNING: Base.FloatingPoint is deprecated, use AbstractFloat instead.\n",
      "  likely near /Users/diego/.julia/v0.4/MLBase/src/deprecated/datapre.jl:104\n",
      "WARNING: Base.FloatingPoint is deprecated, use AbstractFloat instead.\n",
      "  likely near /Users/diego/.julia/v0.4/MLBase/src/deprecated/datapre.jl:105\n",
      "WARNING: Base.FloatingPoint is deprecated, use AbstractFloat instead.\n",
      "  likely near /Users/diego/.julia/v0.4/MLBase/src/deprecated/datapre.jl:163\n",
      "WARNING: Base.FloatingPoint is deprecated, use AbstractFloat instead.\n",
      "  likely near /Users/diego/.julia/v0.4/MLBase/src/deprecated/datapre.jl:163\n",
      "WARNING: Base.FloatingPoint is deprecated, use AbstractFloat instead.\n",
      "  likely near /Users/diego/.julia/v0.4/MLBase/src/deprecated/datapre.jl:163\n"
     ]
    }
   ],
   "source": [
    "using DataFrames\n",
    "using MLBase\n",
    "using GLM\n",
    "using Gadfly\n",
    "using Iterators"
   ]
  },
  {
   "cell_type": "markdown",
   "metadata": {},
   "source": [
    "## Load Data"
   ]
  },
  {
   "cell_type": "code",
   "execution_count": 2,
   "metadata": {
    "collapsed": false
   },
   "outputs": [],
   "source": [
    "train = readtable(\"data/train.csv\")\n",
    "test = readtable(\"data/test.csv\")\n",
    "store = readtable(\"data/store.csv\")\n",
    "train = join(train, store, on=:Store)\n",
    "test = join(test, store, on=:Store)\n",
    "all_data = vcat(train, test);"
   ]
  },
  {
   "cell_type": "markdown",
   "metadata": {},
   "source": [
    "## Sample Data Visualization"
   ]
  },
  {
   "cell_type": "code",
   "execution_count": 3,
   "metadata": {
    "collapsed": false
   },
   "outputs": [
    {
     "name": "stdout",
     "output_type": "stream",
     "text": [
      "1017209x18 DataFrames.DataFrame\n",
      "| Col #"
     ]
    }
   ],
   "source": [
    "showcols(train)\n",
    "showcols(test)"
   ]
  },
  {
   "cell_type": "markdown",
   "metadata": {},
   "source": [
    "## Initial Preprocessing"
   ]
  },
  {
   "cell_type": "markdown",
   "metadata": {},
   "source": [
    "### Select Initial Features and Label"
   ]
  },
  {
   "cell_type": "code",
   "execution_count": 4,
   "metadata": {
    "collapsed": false
   },
   "outputs": [],
   "source": [
    "initial_features = [:DayOfWeek, :Open, :Promo, :StateHolidayEnc, :SchoolHoliday, \n",
    "                    :StoreTypeEnc, :AssortmentEnc, :Promo2, :PromoIntervalEnc]\n",
    "label = :Sales;"
   ]
  },
  {
   "cell_type": "markdown",
   "metadata": {},
   "source": [
    "### Encode Categorical Fields"
   ]
  },
  {
   "cell_type": "code",
   "execution_count": 5,
   "metadata": {
    "collapsed": false
   },
   "outputs": [],
   "source": [
    "label_state_holiday = labelmap(vcat(train[:StateHoliday], test[:StateHoliday]))\n",
    "label_store_type = labelmap(vcat(train[:StoreType], test[:StoreType]))\n",
    "label_assortment = labelmap(vcat(train[:Assortment], test[:Assortment]))\n",
    "label_promo_interval = labelmap(vcat(train[:PromoInterval], test[:PromoInterval]));"
   ]
  },
  {
   "cell_type": "code",
   "execution_count": 6,
   "metadata": {
    "collapsed": false
   },
   "outputs": [
    {
     "name": "stdout",
     "output_type": "stream",
     "text": [
      " | Name                      | Eltype     | Missing |\n",
      "|-------|---------------------------|------------|---------|\n",
      "| 1     | Store                     | Int64      | 0       |\n",
      "| 2     | DayOfWeek                 | Int64      | 0       |\n",
      "| 3     | Date                      | UTF8String | 0       |\n",
      "| 4     | Sales                     | Int64      | 0       |\n",
      "| 5     | Customers                 | Int64      | 0       |\n",
      "| 6     | Open                      | Int64      | 0       |\n",
      "| 7     | Promo                     | Int64      | 0       |\n",
      "| 8     | StateHoliday              | UTF8String | 0       |\n",
      "| 9     | SchoolHoliday             | Int64      | 0       |\n",
      "| 10    | StoreType                 | UTF8String | 0       |\n",
      "| 11    | Assortment                | UTF8String | 0       |\n",
      "| 12    | CompetitionDistance       | Int64      | 2642    |\n",
      "| 13    | CompetitionOpenSinceMonth | Int64      | 323348  |\n",
      "| 14    | CompetitionOpenSinceYear  | Int64      | 323348  |\n",
      "| 15    | Promo2                    | Int64      | 0       |\n",
      "| 16    | Promo2SinceWeek           | Int64      | 508031  |\n",
      "| 17    | Promo2SinceYear           | Int64      | 508031  |\n",
      "| 18    | PromoInterval             | UTF8String | 0       |41088x17 DataFrames.DataFrame\n",
      "| Col # | Name                      | Eltype     | Missing |\n",
      "|-------|---------------------------|------------|---------|\n",
      "| 1     | Id                        | Int64      | 0       |\n",
      "| 2     | Store                     | Int64      | 0       |\n",
      "| 3     | DayOfWeek                 | Int64      | 0       |\n",
      "| 4     | Date                      | UTF8String | 0       |\n",
      "| 5     | Open                      | Int64      | 11      |\n",
      "| 6     | Promo                     | Int64      | 0       |\n",
      "| 7     | StateHoliday              | UTF8String | 0       |\n",
      "| 8     | SchoolHoliday             | Int64      | 0       |\n",
      "| 9     | StoreType                 | UTF8String | 0       |\n",
      "| 10    | Assortment                | UTF8String | 0       |\n",
      "| 11    | CompetitionDistance       | Int64      | 96      |\n",
      "| 12    | CompetitionOpenSinceMonth | Int64      | 15216   |\n",
      "| 13    | CompetitionOpenSinceYear  | Int64      | 15216   |\n",
      "| 14    | Promo2                    | Int64      | 0       |\n",
      "| 15    | Promo2SinceWeek           | Int64      | 17232   |\n",
      "| 16    | Promo2SinceYear           | Int64      | 17232   |\n",
      "| 17    | PromoInterval             | UTF8String | 0       |"
     ]
    }
   ],
   "source": [
    "train[:StateHolidayEnc] = labelencode(label_state_holiday, train[:StateHoliday])\n",
    "train[:StoreTypeEnc] = labelencode(label_store_type, train[:StoreType])\n",
    "train[:AssortmentEnc] = labelencode(label_assortment, train[:Assortment])\n",
    "train[:PromoIntervalEnc] = labelencode(label_promo_interval, train[:PromoInterval])\n",
    "\n",
    "test[:StateHolidayEnc] = labelencode(label_state_holiday, test[:StateHoliday])\n",
    "test[:StoreTypeEnc] = labelencode(label_store_type, test[:StoreType])\n",
    "test[:AssortmentEnc] = labelencode(label_assortment, test[:Assortment])\n",
    "test[:PromoIntervalEnc] = labelencode(label_promo_interval, test[:PromoInterval])\n",
    "\n",
    "all_data[:StateHolidayEnc] = labelencode(label_state_holiday, all_data[:StateHoliday])\n",
    "all_data[:StoreTypeEnc] = labelencode(label_store_type, all_data[:StoreType])\n",
    "all_data[:AssortmentEnc] = labelencode(label_assortment, all_data[:Assortment])\n",
    "all_data[:PromoIntervalEnc] = labelencode(label_promo_interval, all_data[:PromoInterval]);"
   ]
  },
  {
   "cell_type": "code",
   "execution_count": 7,
   "metadata": {
    "collapsed": false
   },
   "outputs": [
    {
     "name": "stdout",
     "output_type": "stream",
     "text": [
      "1058297x23 DataFrames.DataFrame\n"
     ]
    }
   ],
   "source": [
    "showcols(all_data)"
   ]
  },
  {
   "cell_type": "markdown",
   "metadata": {},
   "source": [
    "### Handling Missing Data"
   ]
  },
  {
   "cell_type": "markdown",
   "metadata": {},
   "source": [
    "#### Open"
   ]
  },
  {
   "cell_type": "code",
   "execution_count": 8,
   "metadata": {
    "collapsed": false
   },
   "outputs": [],
   "source": [
    "test[isna(test[:Open]), :Open] = 1\n",
    "all_data[isna(all_data[:Open]), :Open] = 1;"
   ]
  },
  {
   "cell_type": "markdown",
   "metadata": {},
   "source": [
    "#### Competition Distance"
   ]
  },
  {
   "cell_type": "code",
   "execution_count": 9,
   "metadata": {
    "collapsed": false
   },
   "outputs": [
    {
     "name": "stdout",
     "output_type": "stream",
     "text": [
      "| Col # | Name                      | Eltype     | Missing |\n",
      "|-------|---------------------------|------------|---------|\n",
      "| 1     | Store                     | Int64      | 0       |\n",
      "| 2     | DayOfWeek                 | Int64      | 0       |\n",
      "| 3     | Date                      | UTF8String | 0       |\n",
      "| 4     | Sales                     | Int64      | 41088   |\n",
      "| 5     | Customers                 | Int64      | 41088   |\n",
      "| 6     | Open                      | Int64      | 11      |\n",
      "| 7     | Promo                     | Int64      | 0       |\n",
      "| 8     | StateHoliday              | UTF8String | 0       |\n",
      "| 9     | SchoolHoliday             | Int64      | 0       |\n",
      "| 10    | StoreType                 | UTF8String | 0       |\n",
      "| 11    | Assortment                | UTF8String | 0       |\n",
      "| 12    | CompetitionDistance       | Int64      | 2738    |\n",
      "| 13    | CompetitionOpenSinceMonth | Int64      | 338564  |\n",
      "| 14    | CompetitionOpenSinceYear  | Int64      | 338564  |\n",
      "| 15    | Promo2                    | Int64      | 0       |\n",
      "| 16    | Promo2SinceWeek           | Int64      | 525263  |\n",
      "| 17    | Promo2SinceYear           | Int64      | 525263  |\n",
      "| 18    | PromoInterval             | UTF8String | 0       |\n",
      "| 19    | Id                        | Int64      | 1017209 |\n",
      "| 20    | StateHolidayEnc           | Int64      | 0       |\n",
      "| 21    | StoreTypeEnc              | Int64      | 0       |\n",
      "| 22    | AssortmentEnc             | Int64      | 0       |\n",
      "| 23    | PromoIntervalEnc          | Int64      | 0       |"
     ]
    },
    {
     "data": {
      "text/plain": [
       "apply_lm_to_data (generic function with 1 method)"
      ]
     },
     "execution_count": 9,
     "metadata": {},
     "output_type": "execute_result"
    }
   ],
   "source": [
    "function lm_for_prediction(data, y, x)\n",
    "    features = vcat(x, y)\n",
    "    formula = eval(parse(string(y , \" ~ \", join(x, \" + \"))))\n",
    "    return glm(formula, data[!isna(data[y]), :], Normal(), IdentityLink());\n",
    "end\n",
    "\n",
    "function apply_lm_to_data(lm, features, new_feature)\n",
    "    train[new_feature] = predict(lm, train)\n",
    "    test[new_feature] = predict(lm, test)\n",
    "    all_data[new_feature] = predict(lm, all_data);\n",
    "end"
   ]
  },
  {
   "cell_type": "code",
   "execution_count": 10,
   "metadata": {
    "collapsed": false
   },
   "outputs": [],
   "source": [
    "lm = lm_for_prediction(all_data, :CompetitionDistance, initial_features);"
   ]
  },
  {
   "cell_type": "code",
   "execution_count": 11,
   "metadata": {
    "collapsed": false
   },
   "outputs": [],
   "source": [
    "apply_lm_to_data(lm, vcat(initial_features, :CompetitionDistance), :CompetitionDistanceHM);"
   ]
  },
  {
   "cell_type": "markdown",
   "metadata": {},
   "source": [
    "#### Competition Open Since Month"
   ]
  },
  {
   "cell_type": "code",
   "execution_count": 12,
   "metadata": {
    "collapsed": false
   },
   "outputs": [],
   "source": [
    "lm = lm_for_prediction(all_data, :CompetitionOpenSinceMonth, initial_features);"
   ]
  },
  {
   "cell_type": "code",
   "execution_count": 13,
   "metadata": {
    "collapsed": true
   },
   "outputs": [],
   "source": [
    "apply_lm_to_data(lm, vcat(initial_features, :CompetitionOpenSinceMonth), :CompetitionOpenSinceMonthHM);"
   ]
  },
  {
   "cell_type": "markdown",
   "metadata": {},
   "source": [
    "#### Competition Open Since Year"
   ]
  },
  {
   "cell_type": "code",
   "execution_count": 14,
   "metadata": {
    "collapsed": false
   },
   "outputs": [],
   "source": [
    "features = [:DayOfWeek, :Open, :Promo, :Promo2, \n",
    "            :StateHolidayEnc, :StoreTypeEnc, :AssortmentEnc, \n",
    "            :PromoIntervalEnc, :CompetitionDistanceHM]\n",
    "lm = lm_for_prediction(all_data, :CompetitionOpenSinceYear, features);"
   ]
  },
  {
   "cell_type": "code",
   "execution_count": 15,
   "metadata": {
    "collapsed": true
   },
   "outputs": [],
   "source": [
    "apply_lm_to_data(lm, vcat(features, :CompetitionOpenSinceYear), :CompetitionOpenSinceYearHM);"
   ]
  },
  {
   "cell_type": "markdown",
   "metadata": {},
   "source": [
    "#### Promo 2 Since Week"
   ]
  },
  {
   "cell_type": "code",
   "execution_count": 16,
   "metadata": {
    "collapsed": false
   },
   "outputs": [],
   "source": [
    "features = [:Promo, :StateHolidayEnc, :StoreTypeEnc, :AssortmentEnc, :PromoIntervalEnc]\n",
    "lm = lm_for_prediction(all_data, :Promo2SinceWeek, features);"
   ]
  },
  {
   "cell_type": "code",
   "execution_count": 17,
   "metadata": {
    "collapsed": false
   },
   "outputs": [],
   "source": [
    "apply_lm_to_data(lm, vcat(features, :Promo2SinceWeek), :Promo2SinceWeekHM);"
   ]
  },
  {
   "cell_type": "markdown",
   "metadata": {},
   "source": [
    "#### Promo 2 Since Year"
   ]
  },
  {
   "cell_type": "code",
   "execution_count": 18,
   "metadata": {
    "collapsed": false
   },
   "outputs": [],
   "source": [
    "features = [:Promo, :StateHolidayEnc, :StoreTypeEnc, :AssortmentEnc, :PromoIntervalEnc]\n",
    "lm = lm_for_prediction(all_data, :Promo2SinceYear, features);"
   ]
  },
  {
   "cell_type": "code",
   "execution_count": 19,
   "metadata": {
    "collapsed": true
   },
   "outputs": [],
   "source": [
    "apply_lm_to_data(lm, vcat(features, :Promo2SinceYear), :Promo2SinceYearHM);"
   ]
  },
  {
   "cell_type": "code",
   "execution_count": 20,
   "metadata": {
    "collapsed": false
   },
   "outputs": [],
   "source": [
    "new_features = [:CompetitionDistanceHM, :CompetitionOpenSinceMonthHM, \n",
    "                :CompetitionOpenSinceYearHM, :Promo2SinceWeekHM, :Promo2SinceYearHM];"
   ]
  },
  {
   "cell_type": "markdown",
   "metadata": {},
   "source": [
    "#### Check Consistence New Features"
   ]
  },
  {
   "cell_type": "code",
   "execution_count": 21,
   "metadata": {
    "collapsed": false
   },
   "outputs": [
    {
     "data": {
      "text/plain": [
       "eval_new_features (generic function with 1 method)"
      ]
     },
     "execution_count": 21,
     "metadata": {},
     "output_type": "execute_result"
    }
   ],
   "source": [
    "rmse(yreal, ypred) = sum((yreal - ypred) .^ 2)/length(yreal)\n",
    "function eval_new_features(data, features)\n",
    "    results = []\n",
    "    for feature in features\n",
    "        data_without_na = data[!isna(data[feature]),:]\n",
    "        feature_hm = symbol(string(feature, \"HM\"))\n",
    "        push!(results, rmse(data_without_na[feature], data_without_na[feature_hm]))\n",
    "    end\n",
    "    return DataFrame(feature=features, result=results)\n",
    "end"
   ]
  },
  {
   "cell_type": "code",
   "execution_count": 22,
   "metadata": {
    "collapsed": false
   },
   "outputs": [
    {
     "data": {
      "text/html": [
       "<table class=\"data-frame\"><tr><th></th><th>feature</th><th>result</th></tr><tr><th>1</th><td>CompetitionDistance</td><td>5.650534221499798e7</td></tr><tr><th>2</th><td>CompetitionOpenSinceMonth</td><td>10.16708048029716</td></tr><tr><th>3</th><td>CompetitionOpenSinceYear</td><td>35.979639297732525</td></tr><tr><th>4</th><td>Promo2SinceWeek</td><td>197.05558247746052</td></tr><tr><th>5</th><td>Promo2SinceYear</td><td>2.731645039233651</td></tr></table>"
      ],
      "text/plain": [
       "5x2 DataFrames.DataFrame\n",
       "| Row | feature                   | result    |\n",
       "|-----|---------------------------|-----------|\n",
       "| 1   | CompetitionDistance       | 5.65053e7 |\n",
       "| 2   | CompetitionOpenSinceMonth | 10.1671   |\n",
       "| 3   | CompetitionOpenSinceYear  | 35.9796   |\n",
       "| 4   | Promo2SinceWeek           | 197.056   |\n",
       "| 5   | Promo2SinceYear           | 2.73165   |"
      ]
     },
     "execution_count": 22,
     "metadata": {},
     "output_type": "execute_result"
    }
   ],
   "source": [
    "eval_new_features(all_data, map(f -> symbol(string(f)[1:end-2]), new_features))"
   ]
  },
  {
   "cell_type": "markdown",
   "metadata": {},
   "source": [
    "### Check Consistence Features Between Train and Test Sets"
   ]
  },
  {
   "cell_type": "code",
   "execution_count": 23,
   "metadata": {
    "collapsed": false
   },
   "outputs": [
    {
     "data": {
      "text/plain": [
       "0-element Array{Int64,1}"
      ]
     },
     "execution_count": 23,
     "metadata": {},
     "output_type": "execute_result"
    }
   ],
   "source": [
    "setdiff(test[:Store], train[:Store])"
   ]
  },
  {
   "cell_type": "markdown",
   "metadata": {},
   "source": [
    "### Add New Features"
   ]
  },
  {
   "cell_type": "code",
   "execution_count": 35,
   "metadata": {
    "collapsed": false
   },
   "outputs": [
    {
     "data": {
      "text/plain": [
       "41088-element Array{Int64,1}:\n",
       " 15\n",
       " 16\n",
       " 17\n",
       " 18\n",
       " 19\n",
       " 20\n",
       " 21\n",
       " 22\n",
       " 23\n",
       " 24\n",
       " 25\n",
       " 26\n",
       " 27\n",
       "  ⋮\n",
       " 20\n",
       " 21\n",
       " 22\n",
       " 23\n",
       " 24\n",
       " 25\n",
       " 26\n",
       " 27\n",
       " 28\n",
       " 29\n",
       " 30\n",
       " 31"
      ]
     },
     "execution_count": 35,
     "metadata": {},
     "output_type": "execute_result"
    }
   ],
   "source": [
    "train[:Year] = map(d -> d[1:4], train[:Date])\n",
    "train[:Month] = map(d -> d[6:7], train[:Date])\n",
    "train[:Day] = map(d -> d[9:10], train[:Date])\n",
    "\n",
    "test[:Year] = map(d -> d[1:4], test[:Date])\n",
    "test[:Month] = map(d -> d[6:7], test[:Date])\n",
    "test[:Day] = map(d -> d[9:10], test[:Date])\n",
    "\n",
    "label_year = labelmap(vcat(train[:Year], test[:Year]))\n",
    "label_month = labelmap(vcat(train[:Month], test[:Month]))\n",
    "label_day = labelmap(vcat(train[:Day], test[:Day]))\n",
    "\n",
    "train[:Year] = labelencode(label_year, train[:Year])\n",
    "train[:Month] = labelencode(label_month, train[:Month])\n",
    "train[:Day] = labelencode(label_day, train[:Day])\n",
    "\n",
    "test[:Year] = labelencode(label_year, test[:Year])\n",
    "test[:Month] = labelencode(label_month, test[:Month])\n",
    "test[:Day] = labelencode(label_day, test[:Day]);"
   ]
  },
  {
   "cell_type": "code",
   "execution_count": 36,
   "metadata": {
    "collapsed": false
   },
   "outputs": [
    {
     "name": "stdout",
     "output_type": "stream",
     "text": [
      "1017209x30 DataFrames.DataFrame\n",
      "| Col # | Name                        | Eltype     | Missing |\n",
      "|-------|-----------------------------|------------|---------|\n",
      "| 1     | Store                       | Int64      | 0       |\n",
      "| 2     | DayOfWeek                   | Int64      | 0       |\n",
      "| 3     | Date                        | UTF8String | 0       |\n",
      "| 4     | Sales                       | Int64      | 0       |\n",
      "| 5     | Customers                   | Int64      | 0       |\n",
      "| 6     | Open                        | Int64      | 0       |\n",
      "| 7     | Promo                       | Int64      | 0       |\n",
      "| 8     | StateHoliday                | UTF8String | 0       |\n",
      "| 9     | SchoolHoliday               | Int64      | 0       |\n",
      "| 10    | StoreType                   | UTF8String | 0       |\n",
      "| 11    | Assortment                  | UTF8String | 0       |\n",
      "| 12    | CompetitionDistance         | Int64      | 2642    |\n",
      "| 13    | CompetitionOpenSinceMonth   | Int64      | 323348  |\n",
      "| 14    | CompetitionOpenSinceYear    | Int64      | 323348  |\n",
      "| 15    | Promo2                      | Int64      | 0       |\n",
      "| 16    | Promo2SinceWeek             | Int64      | 508031  |\n",
      "| 17    | Promo2SinceYear             | Int64      | 508031  |\n",
      "| 18    | PromoInterval               | UTF8String | 0       |\n",
      "| 19    | StateHolidayEnc             | Int64      | 0       |\n",
      "| 20    | StoreTypeEnc                | Int64      | 0       |\n",
      "| 21    | AssortmentEnc               | Int64      | 0       |\n",
      "| 22    | PromoIntervalEnc            | Int64      | 0       |\n",
      "| 23    | CompetitionDistanceHM       | Float64    | 0       |\n",
      "| 24    | CompetitionOpenSinceMonthHM | Float64    | 0       |\n",
      "| 25    | CompetitionOpenSinceYearHM  | Float64    | 0       |\n",
      "| 26    | Promo2SinceWeekHM           | Float64    | 0       |\n",
      "| 27    | Promo2SinceYearHM           | Float64    | 0       |\n",
      "| 28    | Year                        | Int64      | 0       |\n",
      "| 29    | Month                       | Int64      | 0       |\n",
      "| 30    | Day                         | Int64      | 0       |"
     ]
    }
   ],
   "source": [
    "showcols(train)"
   ]
  },
  {
   "cell_type": "code",
   "execution_count": 41,
   "metadata": {
    "collapsed": false
   },
   "outputs": [],
   "source": [
    "final_features = [:Store, :DayOfWeek, :Open, :Promo, :SchoolHoliday, :Promo2,\n",
    "                  :StateHolidayEnc, :StoreTypeEnc, :AssortmentEnc, :PromoIntervalEnc,\n",
    "                  :CompetitionDistanceHM, :CompetitionOpenSinceMonthHM, \n",
    "                  :CompetitionOpenSinceYearHM, :Promo2SinceWeekHM, :Promo2SinceYearHM, \n",
    "                  :Year, :Month, :Day];"
   ]
  },
  {
   "cell_type": "markdown",
   "metadata": {},
   "source": [
    "## Export Features as Datasets"
   ]
  },
  {
   "cell_type": "code",
   "execution_count": 42,
   "metadata": {
    "collapsed": false
   },
   "outputs": [],
   "source": [
    "writetable(\"data/training_feat_engineering.csv\", train[:, vcat(final_features, label)], separator=',')\n",
    "writetable(\"data/test_feat_engineering.csv\", test[:, vcat(final_features, :Id)], separator=',');;"
   ]
  }
 ],
 "metadata": {
  "kernelspec": {
   "display_name": "Julia 0.4.1-pre",
   "language": "julia",
   "name": "julia-0.4"
  },
  "language_info": {
   "file_extension": ".jl",
   "mimetype": "application/julia",
   "name": "julia",
   "version": "0.4.1"
  }
 },
 "nbformat": 4,
 "nbformat_minor": 0
}
